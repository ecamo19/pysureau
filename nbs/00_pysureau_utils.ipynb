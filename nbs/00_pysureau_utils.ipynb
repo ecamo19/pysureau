{
 "cells": [
  {
   "cell_type": "raw",
   "metadata": {},
   "source": [
    "---\n",
    "description: 'AUTHORS: Erick Calderon-Morales'\n",
    "output-file: pysureau_utils.html\n",
    "title: pysureau utils functions\n",
    "---\n",
    "\n"
   ]
  },
  {
   "cell_type": "code",
   "execution_count": null,
   "metadata": {},
   "outputs": [],
   "source": [
    "# | default_exp pysureau_utils"
   ]
  },
  {
   "cell_type": "code",
   "execution_count": null,
   "metadata": {},
   "outputs": [],
   "source": [
    "# | hide\n",
    "from nbdev.showdoc import *\n",
    "from fastcore.test import *"
   ]
  },
  {
   "cell_type": "code",
   "execution_count": null,
   "metadata": {},
   "outputs": [],
   "source": [
    "# | export\n",
    "import os\n",
    "import csv\n",
    "from typing import Dict\n",
    "from pathlib import Path\n",
    "from pandera.typing import DataFrame"
   ]
  },
  {
   "cell_type": "code",
   "execution_count": null,
   "metadata": {},
   "outputs": [],
   "source": [
    "# | export\n",
    "def dict_to_csv(\n",
    "    dictionary: Dict,  # Dictionary\n",
    "    filename: str,  # Filename\n",
    "    path: Path,  # Path where the csv file will be stored\n",
    ") -> DataFrame:\n",
    "    \"\"\"\n",
    "    Function for converting a dictionary that contains parameters into a CSV file\n",
    "    \"\"\"\n",
    "\n",
    "    # Assert parameters ---------------------------------------------------------\n",
    "    assert isinstance(dictionary, dict), (\n",
    "        f'dictionay must by of class dict not {type(dictionary).__name__}'\n",
    "    )\n",
    "\n",
    "    assert isinstance(filename, str), (\n",
    "        f'filename must by of class str not {type(filename).__name__}'\n",
    "    )\n",
    "\n",
    "    assert isinstance(path, str) | isinstance(path, PosixPath), (\n",
    "        f'Input path must be a str, not a {type(path).__name__}'\n",
    "    )\n",
    "\n",
    "    # Convert string to Path if provided ----------------------------------------\n",
    "    if os.path.exists(path):\n",
    "        # Conver input path\n",
    "        path = Path(path)\n",
    "\n",
    "        filename = os.path.join(path, filename)\n",
    "\n",
    "    else:\n",
    "        raise FileNotFoundError(f'Path {path} not found')\n",
    "\n",
    "    # Convert Dict into csv -----------------------------------------------------\n",
    "    with open(filename, 'w', newline='') as csvfile:\n",
    "        writer = csv.writer(csvfile)\n",
    "\n",
    "        # Write header\n",
    "        writer.writerow(['parameter_name', 'parameter_value'])\n",
    "\n",
    "        # Write data rows\n",
    "        for each_param_name, each_param_value in dictionary.items():\n",
    "            writer.writerow([each_param_name, each_param_value])\n",
    "\n",
    "    print(f'CSV file saved as {filename}')"
   ]
  }
 ],
 "metadata": {
  "kernelspec": {
   "display_name": "python3",
   "language": "python",
   "name": "python3"
  }
 },
 "nbformat": 4,
 "nbformat_minor": 4
}
