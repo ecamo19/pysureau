{
 "cells": [
  {
   "cell_type": "raw",
   "metadata": {},
   "source": [
    "---\n",
    "description: 'AUTHORS: Erick Calderon-Morales'\n",
    "output-file: pysureau_utils.html\n",
    "title: pysureau utils functions\n",
    "---\n",
    "\n"
   ]
  },
  {
   "cell_type": "code",
   "execution_count": null,
   "metadata": {},
   "outputs": [],
   "source": [
    "# | default_exp pysureau_utils"
   ]
  },
  {
   "cell_type": "code",
   "execution_count": null,
   "metadata": {},
   "outputs": [
    {
     "ename": "ModuleNotFoundError",
     "evalue": "No module named 'nbdev'",
     "output_type": "error",
     "traceback": [
      "\u001b[0;31m---------------------------------------------------------------------------\u001b[0m",
      "\u001b[0;31mModuleNotFoundError\u001b[0m                       Traceback (most recent call last)",
      "Cell \u001b[0;32mIn[9], line 2\u001b[0m\n\u001b[1;32m      1\u001b[0m \u001b[38;5;66;03m# | hide\u001b[39;00m\n\u001b[0;32m----> 2\u001b[0m \u001b[38;5;28;01mfrom\u001b[39;00m \u001b[38;5;21;01mnbdev\u001b[39;00m\u001b[38;5;21;01m.\u001b[39;00m\u001b[38;5;21;01mshowdoc\u001b[39;00m \u001b[38;5;28;01mimport\u001b[39;00m \u001b[38;5;241m*\u001b[39m\n\u001b[1;32m      3\u001b[0m \u001b[38;5;66;03m#from fastcore.test import *\u001b[39;00m\n",
      "\u001b[0;31mModuleNotFoundError\u001b[0m: No module named 'nbdev'"
     ]
    }
   ],
   "source": [
    "# | hide\n",
    "from nbdev.showdoc import *\n",
    "from fastcore.test import *"
   ]
  },
  {
   "cell_type": "code",
   "execution_count": null,
   "metadata": {},
   "outputs": [],
   "source": [
    "# | export\n",
    "import os\n",
    "from pathlib import Path\n",
    "from typing import Union\n",
    "import uuid"
   ]
  },
  {
   "cell_type": "code",
   "execution_count": null,
   "metadata": {},
   "outputs": [],
   "source": [
    "# | export\n",
    "def pysureau_init(path: Union[str, None] = None # Path where the pysureau folders and files will be stored \n",
    "                  ):\n",
    "    \n",
    "    # Type checking -------------------------------------------------------------\n",
    "    # Only allow str or None\n",
    "    if path is not None and not isinstance(path, str):\n",
    "        raise TypeError(f\"path must be a string or None, not {type(path).__name__}\")\n",
    "    \n",
    "    # Convert string to Path if provided ----------------------------------------\n",
    "    if path is not None:\n",
    "        path = Path(path)\n",
    "    \n",
    "    # Create folder structure ---------------------------------------------------\n",
    "    \n",
    "    # Get random number to name main folders\n",
    "    random_uuid = uuid.uuid4()\n",
    "    \n",
    "    if path is None:\n",
    "\n",
    "        # Get user's home directory\n",
    "        local_home_dir = Path.home()\n",
    "        \n",
    "        # Create path with random uuid\n",
    "        project_path = os.path.join(local_home_dir, f'pysureau_project_{random_uuid}')\n",
    "\t    \n",
    "        # Create main\n",
    "        os.mkdir(project_path)\n",
    "        \n",
    "        print(f'pysureau project created at {project_path}')\n",
    "        \n",
    "            \n",
    "    elif os.path.exists(path):\n",
    "    \n",
    "        project_path = os.path.join(path, f'pysureau_project_{random_uuid}')\n",
    "    \n",
    "        os.mkdir(project_path)\n",
    "    \n",
    "        print(f'pysureau project created at {project_path}')\n",
    "        \n",
    "    else:\n",
    "        raise FileNotFoundError(f\"Path not found at: {path}\")\n",
    "    \n",
    "    "
   ]
  },
  {
   "cell_type": "markdown",
   "metadata": {},
   "source": [
    "#### __Example: __ "
   ]
  },
  {
   "cell_type": "code",
   "execution_count": null,
   "metadata": {},
   "outputs": [
    {
     "name": "stdout",
     "output_type": "stream",
     "text": [
      "pysureau project created at /tmp/pysureau_project_a50b521e-dce3-4c4f-8a5f-04304a83f93a\n"
     ]
    }
   ],
   "source": [
    "pysureau_init(\"/tmp\")"
   ]
  },
  {
   "cell_type": "code",
   "execution_count": null,
   "metadata": {},
   "outputs": [],
   "source": [
    "# | export\n"
   ]
  },
  {
   "cell_type": "markdown",
   "metadata": {},
   "source": []
  }
 ],
 "metadata": {
  "kernelspec": {
   "display_name": "python3",
   "language": "python",
   "name": "python3"
  }
 },
 "nbformat": 4,
 "nbformat_minor": 4
}
