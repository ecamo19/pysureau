{
 "cells": [
  {
   "cell_type": "raw",
   "metadata": {},
   "source": [
    "---\n",
    "description: 'AUTHORS: __Julien Ruffault (julien.ruff@gmail.com), Nicolas Martin-StPaul\n",
    "  (nicolas.martin@inrae.fr)__'\n",
    "output-file: soil_utils.html\n",
    "title: Soil utils functions\n",
    "\n",
    "---\n",
    "\n"
   ]
  },
  {
   "cell_type": "code",
   "execution_count": null,
   "metadata": {},
   "outputs": [],
   "source": [
    "# | default_exp soil_utils"
   ]
  },
  {
   "cell_type": "code",
   "execution_count": 1,
   "metadata": {},
   "outputs": [],
   "source": [
    "# | hide\n",
    "from nbdev.showdoc import *\n",
    "from fastcore.test import *"
   ]
  },
  {
   "cell_type": "code",
   "execution_count": 2,
   "metadata": {},
   "outputs": [],
   "source": [
    "# | export\n",
    "import os\n",
    "import operator\n",
    "import numpy as np\n",
    "from math import pi\n",
    "import pandas as pd\n",
    "import pandera as pa\n",
    "from typing import Dict\n",
    "from pathlib import Path, PosixPath\n",
    "\n",
    "# from pandera.typing import Series, DataFrame\n",
    "from collections import OrderedDict, defaultdict\n",
    "from pysureau.pysureau_utils import dict_to_csv\n",
    "from pysureau.parameter_validators import *"
   ]
  },
  {
   "cell_type": "code",
   "execution_count": null,
   "metadata": {},
   "outputs": [],
   "source": [
    "# | export\n",
    "def compute_b(\n",
    "    lv: float,  # length of fine root per unit volume\n",
    ") -> float:\n",
    "    \"Calculate b used to compute the B of the Gardnar-Cowen model\"\n",
    "\n",
    "    return 1 / np.sqrt(pi * lv)"
   ]
  },
  {
   "cell_type": "code",
   "execution_count": null,
   "metadata": {},
   "outputs": [],
   "source": [
    "# | export\n",
    "def compute_b_gc(\n",
    "    la: float,  # Unknown parameter definition\n",
    "    b: float,  # Unknown parameter definition\n",
    "    root_radius: float,  # Calculated using the `compute_b` function\n",
    ") -> float:\n",
    "    \"Calculate B Gardner cowen thhe scaling factor for soil conductance\"\n",
    "\n",
    "    return la * 2 * pi / np.log(b / root_radius)"
   ]
  },
  {
   "cell_type": "code",
   "execution_count": null,
   "metadata": {},
   "outputs": [],
   "source": [
    "# | export\n",
    "def compute_k_soil(\n",
    "    rew: float,  # Unknown parameter definition\n",
    "    i_vg: float,  # Unknown parameter definition\n",
    "    n_vg: float,  # Unknown parameter definition\n",
    "    k_sat_vg: float,  # Unknown parameter definition\n",
    "    b_gc: float,  # Calculated using the `compute_b_gc` function\n",
    ") -> float:\n",
    "    # Create empty dict for storing params --------------------------------------\n",
    "    k_soil_parameters = collections.defaultdict(list)\n",
    "\n",
    "    # Compute k_soil ------------------------------------------------------------\n",
    "    m = 1 - (1 / n_vg)\n",
    "\n",
    "    k_soil = k_sat_vg * rew ** (i_vg) * (1 - (1 - rew ** (1 / m)) ** m) ** 2\n",
    "\n",
    "    k_soil_gc = 1000 * b_gc * k_soil\n",
    "\n",
    "    # Append to dictionary ------------------------------------------------------\n",
    "    k_soil_parameters['k_soil'] = k_soil\n",
    "    k_soil_parameters['k_soil_gc'] = k_soil_gc\n",
    "\n",
    "    return k_soil_parameters"
   ]
  },
  {
   "cell_type": "code",
   "execution_count": null,
   "metadata": {},
   "outputs": [],
   "source": [
    "# | export\n",
    "def compute_k_soil_camp(\n",
    "    sws: float,  # Unknown parameter definition\n",
    "    tsc: float,  # Unknown parameter definition\n",
    "    b_camp: float,  # Unknown parameter definition\n",
    "    k_sat_campbell: float,  # Unknown parameter definition\n",
    ") -> float:\n",
    "    return k_sat_campbell * (sws / tsc) ** (-b_camp * 2 + 2)"
   ]
  },
  {
   "cell_type": "code",
   "execution_count": null,
   "metadata": {},
   "outputs": [],
   "source": [
    "# | export\n",
    "def compute_p_soil(\n",
    "    rew: float,  # Unknown parameter definition\n",
    "    alpha_vg: float,  # Unknown parameter definition\n",
    "    n_vg: float,  # Unknown parameter definition\n",
    ") -> float:\n",
    "    m = 1 - (1 / n_vg)\n",
    "\n",
    "    # diviser par 10000 pour passer de cm à MPa\n",
    "    return -1 * ((((1 / rew) ** (1 / m)) - 1) ** (1 / n_vg)) / alpha_vg / 10000"
   ]
  },
  {
   "cell_type": "code",
   "execution_count": null,
   "metadata": {},
   "outputs": [],
   "source": [
    "# | export\n",
    "def compute_p_soil_camp(\n",
    "    sws: float,  # Unknown parameter definition\n",
    "    tsc: float,  # Unknown parameter definition\n",
    "    b_camp: float,  # Unknown parameter definition\n",
    "    psie: float,  # Unknown parameter definition\n",
    ") -> float:\n",
    "    return -1 * (psie * ((sws / tsc) ** -b_camp))"
   ]
  },
  {
   "cell_type": "code",
   "execution_count": null,
   "metadata": {},
   "outputs": [],
   "source": [
    "# | export\n",
    "def compute_theta_at_given_p_soil(\n",
    "    psi_target: float,  # Unknown parameter definition\n",
    "    theta_res: float,  # Unknown parameter definition\n",
    "    theta_sat: float,  # Unknown parameter definition\n",
    "    alpha_vg: float,  # Unknown parameter definition\n",
    "    n_vg: float,  # Unknown parameter definition\n",
    ") -> float:\n",
    "    # Assert that values are positive.\n",
    "    # Using np.testing instead of assert because parameters can be np.arrays OR\n",
    "    # single values (i.e. 1). assert only works when params are always one\n",
    "    # type\n",
    "    # Solution from:\n",
    "    # https://stackoverflow.com/questions/45987962/why-arent-there-numpy-testing-assert-array-greater-assert-array-less-equal-as\n",
    "\n",
    "    np.testing.assert_array_compare(\n",
    "        operator.__gt__,\n",
    "        np.array(psi_target),\n",
    "        0,\n",
    "        err_msg='\\nError: psi_target values must be greater than 0\\n',\n",
    "    )\n",
    "\n",
    "    return theta_res + (theta_sat - theta_res) / (\n",
    "        1 + (alpha_vg * psi_target * 10000) ** n_vg\n",
    "    ) ** (1 - 1 / n_vg)"
   ]
  },
  {
   "cell_type": "markdown",
   "metadata": {},
   "source": [
    "#### __Example: Compute theta parameter__"
   ]
  },
  {
   "cell_type": "code",
   "execution_count": null,
   "metadata": {},
   "outputs": [
    {
     "data": {
      "text/plain": [
       "3.316227675107904"
      ]
     },
     "execution_count": null,
     "metadata": {},
     "output_type": "execute_result"
    }
   ],
   "source": [
    "compute_theta_at_given_p_soil(\n",
    "    psi_target=2, theta_res=3, theta_sat=4, alpha_vg=5, n_vg=1.1\n",
    ")"
   ]
  },
  {
   "cell_type": "code",
   "execution_count": null,
   "metadata": {},
   "outputs": [
    {
     "data": {
      "text/plain": [
       "array([-5.99999970e+000, -6.51316634e+303])"
      ]
     },
     "execution_count": null,
     "metadata": {},
     "output_type": "execute_result"
    }
   ],
   "source": [
    "compute_theta_at_given_p_soil(\n",
    "    psi_target=np.array([1.5, 2]),\n",
    "    theta_res=np.array([3, -2]),\n",
    "    theta_sat=np.array([-6, -7]),\n",
    "    alpha_vg=np.array([9.02, 2.9]),\n",
    "    n_vg=np.array([-1.5, 0.001]),\n",
    ")"
   ]
  },
  {
   "cell_type": "code",
   "execution_count": null,
   "metadata": {},
   "outputs": [],
   "source": [
    "# | export\n",
    "def compute_theta_at_given_p_soil_camp(\n",
    "    theta_sat: float,  # Unknown parameter definition\n",
    "    psi_target: float,  # Unknown parameter definition\n",
    "    psie: float,  # Unknown parameter definition\n",
    "    b_camp: float,  # Unknown parameter definition\n",
    ") -> float:\n",
    "    # Assert that values are negative.\n",
    "    # Using np.testing instead of assert because parameters can be np.arrays OR\n",
    "    # single values (i.e. 1). assert only works when params are always one\n",
    "    # type\n",
    "\n",
    "    np.testing.assert_array_less(\n",
    "        np.array(psie), 0, err_msg='\\nError: psie values must be negative\\n'\n",
    "    )\n",
    "\n",
    "    np.testing.assert_array_less(\n",
    "        np.array(b_camp), 0, err_msg='\\nError: b_camp values must be negative\\n'\n",
    "    )\n",
    "\n",
    "    np.testing.assert_array_less(\n",
    "        np.array(psi_target),\n",
    "        0,\n",
    "        err_msg='\\nError: psi_target values must be negative\\n',\n",
    "    )\n",
    "\n",
    "    return theta_sat * (psi_target / psie) ** (1 / b_camp)"
   ]
  },
  {
   "cell_type": "markdown",
   "metadata": {},
   "source": [
    "#### __Example: Compute theta parameter for Campbell formulation__"
   ]
  },
  {
   "cell_type": "code",
   "execution_count": null,
   "metadata": {},
   "outputs": [
    {
     "data": {
      "text/plain": [
       "0.14012860366560284"
      ]
     },
     "execution_count": null,
     "metadata": {},
     "output_type": "execute_result"
    }
   ],
   "source": [
    "compute_theta_at_given_p_soil_camp(\n",
    "    psi_target=-1.5, theta_sat=0.39, psie=-0.025, b_camp=-4.0\n",
    ")"
   ]
  },
  {
   "cell_type": "code",
   "execution_count": null,
   "metadata": {},
   "outputs": [
    {
     "data": {
      "text/plain": [
       "array([0.25151288, 0.78572343])"
      ]
     },
     "execution_count": null,
     "metadata": {},
     "output_type": "execute_result"
    }
   ],
   "source": [
    "compute_theta_at_given_p_soil_camp(\n",
    "    psi_target=np.array([-1.5, -2]),\n",
    "    theta_sat=np.array([0.70]),\n",
    "    psie=np.array([-0.025, -4]),\n",
    "    b_camp=np.array([-4.0, -6]),\n",
    ")"
   ]
  },
  {
   "cell_type": "code",
   "execution_count": null,
   "metadata": {},
   "outputs": [],
   "source": [
    "# | export\n",
    "\n",
    "\n",
    "def create_empty_soil_parameter_files(\n",
    "    path: Path,  # Path to the folder where the parameter files will be saved. If set to None then the files will be saved at the current working directory\n",
    ") -> Dict:  # Return two dictionary files for user input\n",
    "    \"Function for creating the CSV templates necessary for the soil parameters\"\n",
    "\n",
    "    # Assert parameters ---------------------------------------------------------\n",
    "    assert isinstance(path, str) | isinstance(path, PosixPath), (\n",
    "        f'Input path must be a str, not a {type(path).__name__}'\n",
    "    )\n",
    "\n",
    "    # Convert string to Path if provided ----------------------------------------\n",
    "    path = Path(path)\n",
    "    if os.path.exists(path):\n",
    "        # Soil parameters for van Genuchten pedo transfer function\n",
    "        soil_params_vg = {\n",
    "            'rfc_1': 'NA',\n",
    "            'rfc_2': 'NA',\n",
    "            'rfc_3': 'NA',\n",
    "            'soil_depth_1': 'NA',\n",
    "            'soil_depth_2': 'NA',\n",
    "            'soil_depth_3': 'NA',\n",
    "            'psie': 'NA',\n",
    "            'n_vg': 'NA',\n",
    "            'i_vg': 'NA',\n",
    "            'ksat_vg': 'NA',\n",
    "            'g_soil_0': 'NA',\n",
    "            'alpha_vg': 'NA',\n",
    "            'offset_psoil': 'NA',\n",
    "            'residual_capacity_vg': 'NA',\n",
    "            'saturation_capacity_vg': 'NA',\n",
    "            'psoil_at_field_capacity': 'NA',\n",
    "            'pedo_transfer_formulation': 'NA',\n",
    "            'soil_formulation': 'vg',\n",
    "        }\n",
    "\n",
    "        # Soil parameters for Campbell pedo transfer funtion\n",
    "        soil_params_campbell = {\n",
    "            'rfc_1': 'NA',\n",
    "            'rfc_2': 'NA',\n",
    "            'rfc_3': 'NA',\n",
    "            'soil_depth_1': 'NA',\n",
    "            'soil_depth_2': 'NA',\n",
    "            'soil_depth_3': 'NA',\n",
    "            'psie': 'NA',\n",
    "            'b_camp': 'NA',\n",
    "            'g_soil_0': 'NA',\n",
    "            'offset_psoil': 'NA',\n",
    "            'ksat_campbell': 'NA',\n",
    "            'psoil_at_field_capacity': 'NA',\n",
    "            'pedo_transfer_formulation': 'NA',\n",
    "            'saturation_capacity_campbell': 'NA',\n",
    "            'soil_formulation': 'campbell',\n",
    "        }\n",
    "\n",
    "        # Write to CSV files\n",
    "        dict_to_csv(\n",
    "            dictionary=soil_params_vg,\n",
    "            path=path,\n",
    "            filename='soil_parameters_vg.csv',\n",
    "        )\n",
    "\n",
    "        dict_to_csv(\n",
    "            dictionary=soil_params_campbell,\n",
    "            path=path,\n",
    "            filename='soil_parameters_campbell.csv',\n",
    "        )\n",
    "\n",
    "    else:\n",
    "        raise ValueError('Failed creating empty parameter files')"
   ]
  },
  {
   "cell_type": "code",
   "execution_count": null,
   "metadata": {},
   "outputs": [],
   "source": [
    "# | export\n",
    "def read_soil_file(\n",
    "    file_path: Path,  # Path to the sureau_parameter_files folder containing the csv files with parameter values i.e path/to/sureau_parameter_files/file_name.csv\n",
    "    sep: str = ',',  # CSV file separator can be ',' or ';'\n",
    ") -> Dict:  # Dictionary with soil parameters\n",
    "    \"Function for reading a CSV file containing soil parameters information\"\n",
    "\n",
    "    # Assert parameters ---------------------------------------------------------\n",
    "\n",
    "    # Make sure that sureau_parameter_files folder exist\n",
    "\n",
    "    # Make sure the file_path exist\n",
    "    assert os.path.exists(file_path), (\n",
    "        f'sureau_parameter_files folder not found at {file_path}. Save soil parameter files within sureau_parameter_files'\n",
    "    )\n",
    "\n",
    "    # Read and validate dataframe -----------------------------------------------\n",
    "\n",
    "    # Read CSV\n",
    "    soil_data = pd.read_csv(\n",
    "        file_path,\n",
    "        # Do not read header\n",
    "        sep=sep,\n",
    "    )\n",
    "\n",
    "    # Validate the column names of soil data\n",
    "    \n",
    "    \n",
    "    # Transform dataframe into dictionary ---------------------------------------\n",
    "    soil_data.set_index(\"parameter_name\").to_dict()['parameter_value']\n",
    "\n",
    "    # Loop over dictionary to transform the data types.\n",
    "    # If this is not done all values will be considered str\n",
    "\n",
    "    # Loop over all keys\n",
    "    for each_key in soil_data_dict_ordered.keys():\n",
    "        # If value is 'vg' or 'campbell' then transform to str\n",
    "        if (\n",
    "            soil_data_dict_ordered[each_key] == 'vg'\n",
    "            or soil_data_dict_ordered[each_key] == 'campbell'\n",
    "        ):\n",
    "            soil_data_dict_ordered[each_key] = str(\n",
    "                soil_data_dict_ordered[each_key]\n",
    "            )\n",
    "\n",
    "        # If key start with rfc (rock fragment content must be integers since are\n",
    "        # values between 0-100%)\n",
    "        elif each_key.startswith('rfc'):\n",
    "            soil_data_dict_ordered[each_key] = int(\n",
    "                soil_data_dict_ordered[each_key]\n",
    "            )\n",
    "\n",
    "        # This is done for avoiding converting 0 to 0.0\n",
    "        elif soil_data_dict_ordered[each_key] == 0:\n",
    "            soil_data_dict_ordered[each_key] = int(\n",
    "                soil_data_dict_ordered[each_key]\n",
    "            )\n",
    "\n",
    "        # Transform to float\n",
    "        else:\n",
    "            soil_data_dict_ordered[each_key] = float(\n",
    "                soil_data_dict_ordered[each_key]\n",
    "            )\n",
    "\n",
    "    # Validate, raise error if soil data don't follow the SoilDataValidator Schema\n",
    "    if soil_data['soil_formulation'] == 'campbell':\n",
    "        try:\n",
    "            SoilParameterValidatorCampbell.model_validate(soil_data)\n",
    "\n",
    "        except pa.errors.SchemaError as error:\n",
    "            # Print which column  are missing\"\n",
    "            print(error)\n",
    "\n",
    "    else:\n",
    "        try:\n",
    "            SoilParameterValidatorVg.model_validate(soil_data)\n",
    "\n",
    "        except pa.errors.SchemaError as error:\n",
    "            # Print which column  are missing\"\n",
    "            print(error)\n",
    "\n",
    "    # Setting common parameters for WB_soil (regardless of the options) ---------\n",
    "    if soil_data_dict_ordered['pedo_transfer_formulation'] == 'vg':\n",
    "        # 14 params\n",
    "        params = np.array(\n",
    "            [\n",
    "                'rfc_1',\n",
    "                'rfc_2',\n",
    "                'rfc_3',\n",
    "                'soil_depth_1',\n",
    "                'soil_depth_2',\n",
    "                'soil_depth_3',\n",
    "                'psoil_at_field_capacity',\n",
    "                'g_soil_0',\n",
    "                'pedo_transfer_formulation',\n",
    "                'offset_psoil',\n",
    "                'psie',\n",
    "                'alpha_vg',\n",
    "                'n_vg',\n",
    "                'i_vg',\n",
    "                'ksat_vg',\n",
    "                'saturation_capacity_vg',\n",
    "                'residual_capacity_vg',\n",
    "            ],\n",
    "            dtype=object,\n",
    "        )\n",
    "\n",
    "    elif soil_data_dict_ordered['pedo_transfer_formulation'] == 'campbell':\n",
    "        # 12 params\n",
    "        params = np.array(\n",
    "            [\n",
    "                'rfc_1',\n",
    "                'rfc_2',\n",
    "                'rfc_3',\n",
    "                'soil_depth_1',\n",
    "                'soil_depth_2',\n",
    "                'soil_depth_3',\n",
    "                'psoil_at_field_capacity',\n",
    "                'g_soil_0',\n",
    "                'offset_psoil',\n",
    "                'pedo_transfer_formulation',\n",
    "                'psieb_camp',\n",
    "                'saturation_capacity_campbell',\n",
    "                'ksat_campbell',\n",
    "            ],\n",
    "            dtype=object,\n",
    "        )\n",
    "    else:\n",
    "        raise ValueError(\n",
    "            f'Option {soil_data_dict_ordered[\"pedo_transfer_formulation\"]} not recognized. Set pedo_transfer_function to either \"vg\" or \"campbell\" Use \"\" '\n",
    "        )\n",
    "\n",
    "    ## Make sure that no parameters are missing (12 or 14) -----------------------\n",
    "    for each_parameter in params:\n",
    "        # Raise error if a parameter is missing from params\n",
    "        if each_parameter not in soil_data_dict_ordered.keys():\n",
    "            raise ValueError(\n",
    "                f'{each_parameter} not provided in input soil parameter CSV file, check presence or spelling\\n'\n",
    "            )\n",
    "\n",
    "    # Make sure there are no duplicate parameters -------------------------------\n",
    "    if len(soil_data_dict_ordered.keys()) is not len(\n",
    "        set(soil_data_dict_ordered.keys())\n",
    "    ):\n",
    "        raise ValueError(\n",
    "            'Parameter might be repeated several times in input soil parameter file'\n",
    "        )\n",
    "\n",
    "    # Return\n",
    "    return defaultdict(list, soil_data_dict_ordered)"
   ]
  },
  {
   "cell_type": "code",
   "execution_count": 3,
   "metadata": {},
   "outputs": [],
   "source": [
    "soil_data = pd.read_csv('/tmp/pysureau_project_ciZ64j6epyCqPxyavomxgW/1_parameter_files/soil_parameters_campbell.csv', \n",
    "                        sep = \",\",\n",
    "                        )"
   ]
  },
  {
   "cell_type": "code",
   "execution_count": 19,
   "metadata": {},
   "outputs": [
    {
     "data": {
      "text/plain": [
       "{'rfc_1': nan,\n",
       " 'rfc_2': nan,\n",
       " 'rfc_3': nan,\n",
       " 'soil_depth_1': nan,\n",
       " 'soil_depth_2': nan,\n",
       " 'soil_depth_3': nan,\n",
       " 'psoil_at_field_capacity': nan,\n",
       " 'g_soil_0': nan,\n",
       " 'offset_psoil': nan,\n",
       " 'pedo_transfer_formulation': nan,\n",
       " 'psie': nan,\n",
       " 'b_camp': nan,\n",
       " 'saturation_capacity_campbell': nan,\n",
       " 'ksat_campbell': nan}"
      ]
     },
     "execution_count": 19,
     "metadata": {},
     "output_type": "execute_result"
    }
   ],
   "source": [
    "soil_data.set_index(\"parameter_name\").to_dict()['parameter_value']"
   ]
  },
  {
   "cell_type": "markdown",
   "metadata": {},
   "source": [
    "#### __Example: Read CSV file with Soil parameters__"
   ]
  },
  {
   "cell_type": "code",
   "execution_count": null,
   "metadata": {},
   "outputs": [],
   "source": [
    "# read_soil_file('/tmp/pysureau_project_ciZ64j6epyCqPxyavomxgW/1_parameter_files/soil_parameters_campbell.csv')"
   ]
  },
  {
   "cell_type": "code",
   "execution_count": null,
   "metadata": {},
   "outputs": [],
   "source": [
    "# | export\n",
    "\n",
    "\n",
    "def convert_vwc_to_sws(\n",
    "    vwc_x: float,  # Volumetric Water Content m3.m-3\n",
    "    layer_thickness: float,  # Soil layer thickness in meters?\n",
    "    rfc: int = 0,  # Rock Fragment Content (%)\n",
    ") -> float:  # Soil Water Stock (mm)\n",
    "    \"Convert soil volumetric water content (m3.m-3) to water stock height (quantity as height in mm per m2 soil) by accounting for the respective layer thickness and rock fragment content. The volume of the water quantity per square metre results in the corresponding water stock height (m3 water per m2 soil as height in mm)\"\n",
    "\n",
    "    return vwc_x * (1 - (rfc / 100)) * layer_thickness * 1000"
   ]
  },
  {
   "cell_type": "code",
   "execution_count": null,
   "metadata": {},
   "outputs": [
    {
     "data": {
      "text/plain": [
       "1000.0"
      ]
     },
     "execution_count": null,
     "metadata": {},
     "output_type": "execute_result"
    }
   ],
   "source": [
    "convert_vwc_to_sws(1, layer_thickness=1)"
   ]
  },
  {
   "cell_type": "code",
   "execution_count": null,
   "metadata": {},
   "outputs": [],
   "source": [
    "# | export\n",
    "\n",
    "\n",
    "def convert_sws_to_vwc(\n",
    "    sws_x: float,  # Soil Water Stock (mm)\n",
    "    layer_thickness: float,  # Soil layer thickness in meters?\n",
    "    rfc: int = 0,  # Rock Fragment Content (%)\n",
    ") -> float:  # Volumetric Water Content m3.m-3\n",
    "    \"Convert soil water stock (quantity as height in mm per m2 soil) to volumetric water content (m3.m-3) by accounting for the respective layer thickness and rock fragment content\"\n",
    "\n",
    "    return sws_x / ((1 - (rfc / 100)) * layer_thickness * 1000)"
   ]
  },
  {
   "cell_type": "code",
   "execution_count": null,
   "metadata": {},
   "outputs": [
    {
     "data": {
      "text/plain": [
       "1.0"
      ]
     },
     "execution_count": null,
     "metadata": {},
     "output_type": "execute_result"
    }
   ],
   "source": [
    "convert_sws_to_vwc(1000, layer_thickness=1)"
   ]
  }
 ],
 "metadata": {
  "kernelspec": {
   "display_name": "default",
   "language": "python",
   "name": "python3"
  },
  "language_info": {
   "codemirror_mode": {
    "name": "ipython",
    "version": 3
   },
   "file_extension": ".py",
   "mimetype": "text/x-python",
   "name": "python",
   "nbconvert_exporter": "python",
   "pygments_lexer": "ipython3",
   "version": "3.13.5"
  }
 },
 "nbformat": 4,
 "nbformat_minor": 4
}
