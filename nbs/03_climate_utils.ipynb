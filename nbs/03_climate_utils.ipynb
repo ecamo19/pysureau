{
 "cells": [
  {
   "cell_type": "raw",
   "metadata": {},
   "source": [
    "---\n",
    "description: 'AUTHORS: __Julien Ruffault (julien.ruff@gmail.com), Nicolas Martin-StPaul\n",
    "  (nicolas.martin@inrae.fr)__'\n",
    "output-file: climate_utils.html\n",
    "title: Climate utils functions\n",
    "\n",
    "---\n",
    "\n"
   ]
  },
  {
   "cell_type": "code",
   "execution_count": null,
   "metadata": {},
   "outputs": [],
   "source": [
    "# | default_exp climate_utils"
   ]
  },
  {
   "cell_type": "code",
   "execution_count": null,
   "metadata": {},
   "outputs": [],
   "source": [
    "# | hide\n",
    "from nbdev.showdoc import *\n",
    "from fastcore.test import is_close"
   ]
  },
  {
   "cell_type": "code",
   "execution_count": null,
   "metadata": {},
   "outputs": [],
   "source": [
    "# | export\n",
    "import warnings\n",
    "import operator\n",
    "import collections\n",
    "import numpy as np\n",
    "from math import pi\n",
    "from typing import Dict\n",
    "from numpy import exp, cos, sin, arccos, arctan\n",
    "#from pysureau.parameter_validators import ClimateDataValidator"
   ]
  },
  {
   "cell_type": "code",
   "execution_count": null,
   "metadata": {},
   "outputs": [],
   "source": [
    "# | export\n",
    "def day_length(\n",
    "    latitude: float,  # numeric value specifying the geographic latitude (in decimal degrees) of the location of interest\n",
    "    day_of_year: int,  # numeric (usually integer) value or vector specifying the Julian day (day of the year), for which calculations should be done.\n",
    "    no_times_as_na: bool = False,  # parameter to determine whether for days without sunrise or sunset, na should be returned for Sunset and Sunrise. If left at FALSE, the function returns -99 and 99 for sunrise and sunset or polar nights and polar days, respectively\n",
    ") -> Dict:  # Dictionary with three elements Sunrise, Sunset and Daylength. For days without sunrise (polar nights),sunset and sunrise become -99 and the daylength 0. For days without sunset, sunset and sunrise are 99 and daylength 24.\n",
    "    'Original function from chillR R package. This function computes sunrise time, sunset time and daylength for a particular location and day of the year (Julian day). This is done using equations by Spencer (1971) and Almorox et al. (2005).'\n",
    "\n",
    "    warnings.warn('Double check day_length function works for Australia')\n",
    "\n",
    "    # Assert parameters ---------------------------------------------------------\n",
    "    # Latitude\n",
    "    assert (\n",
    "        isinstance(latitude, float) | isinstance(latitude, int)\n",
    "        and 95 >= latitude >= -95\n",
    "    ), 'Provide latitude as coordinates points bewteen -90 and 90 i.e. latitude = 41.40338'\n",
    "\n",
    "    # Day of year\n",
    "    # Using np.testing instead of assert because parameters can be np.arrays OR\n",
    "    # single values (i.e. 1). assert only works when params are always one type\n",
    "    # Solution from:\n",
    "    # https://stackoverflow.com/questions/45987962/why-arent-there-numpy-testing-assert-array-greater-assert-array-less-equal-as\n",
    "\n",
    "    np.testing.assert_array_compare(\n",
    "        operator.__gt__,\n",
    "        np.array(day_of_year),\n",
    "        0,\n",
    "        err_msg='\\nday_of_year must be must be a integer value between 1-366\\n',\n",
    "    )\n",
    "\n",
    "    np.testing.assert_array_less(\n",
    "        np.array(day_of_year),\n",
    "        367,\n",
    "        err_msg='\\nError: day_of_year must be must be a integer value between 1-366\\n',\n",
    "    )\n",
    "\n",
    "    # Define constants ----------------------------------------------------------\n",
    "    gamma = 2 * (pi / 365) * ((day_of_year) - 1)\n",
    "    delta = (180 / pi) * (\n",
    "        0.006918\n",
    "        - 0.399912 * cos(gamma)\n",
    "        + 0.070257 * sin(gamma)\n",
    "        - 0.006758 * cos(2 * gamma)\n",
    "        + 0.000907 * sin(2 * (gamma))\n",
    "        - 0.002697 * cos(3 * (gamma))\n",
    "        + 0.00148 * sin(3 * (gamma))\n",
    "    )\n",
    "\n",
    "    cos_wo = (\n",
    "        sin((-0.8333 / 360) * 2 * pi)\n",
    "        - sin(latitude / 360 * 2 * pi) * sin((delta / 360) * 2 * pi)\n",
    "    ) / (cos((latitude / 360) * 2 * pi) * cos((delta / 360) * 2 * pi))\n",
    "\n",
    "    # Step implemented in case day_of_year is a single value i.e.\n",
    "    # day_of_year = 80\n",
    "    if isinstance(cos_wo, float):\n",
    "        # Transform float into array\n",
    "        cos_wo = np.array([cos_wo])\n",
    "\n",
    "    # Calculate sunrise and sunset ----------------------------------------------\n",
    "\n",
    "    # Get the position of values between -1 and 1\n",
    "    # Note only day_of_year values from 77 to 80 and will return values\n",
    "    # between -1 and 1\n",
    "\n",
    "    normal_days = np.where((cos_wo >= -1) & (cos_wo <= 1))\n",
    "\n",
    "    # Initialize a numpy arrays\n",
    "\n",
    "    sunrise = np.full(len(cos_wo), -99, dtype=float)\n",
    "    sunset = np.full(len(cos_wo), -99, dtype=float)\n",
    "\n",
    "    # Add normal days to sunrise and sunset arrays\n",
    "    sunrise[normal_days] = 12 - arccos(cos_wo[normal_days]) / (15 / 360 * 2 * pi)\n",
    "    sunset[normal_days] = 12 + arccos(cos_wo[normal_days]) / (15 / 360 * 2 * pi)\n",
    "\n",
    "    # Calculate day length\n",
    "    day_length = sunset - sunrise\n",
    "\n",
    "    day_length[np.where(cos_wo > 1)] = 0\n",
    "    day_length[np.where(cos_wo < (-1))] = 24\n",
    "\n",
    "    # Replace values with 99\n",
    "    sunrise[np.where(day_length == 24)] = 99\n",
    "    sunset[np.where(day_length == 24)] = 99\n",
    "\n",
    "    # Replace 99 and -99 with na in sunrise and sunset arrays\n",
    "    if no_times_as_na is True:\n",
    "        sunrise = np.where((sunrise == -99) | (sunrise == 99), np.nan, sunrise)\n",
    "        sunset = np.where((sunset == -99) | (sunset == 99), np.nan, sunset)\n",
    "\n",
    "    # # Check the presence of nan\n",
    "    if (\n",
    "        any(np.isnan(sunrise))\n",
    "        or any(np.isnan(sunset))\n",
    "        or any(np.isnan(day_length))\n",
    "    ):\n",
    "        warnings.warn('nan found in sunrise, sunset or day_length')\n",
    "\n",
    "    # Return dictionary\n",
    "    return collections.defaultdict(\n",
    "        list, {'sunrise': sunrise, 'sunset': sunset, 'day_length': day_length}\n",
    "    )"
   ]
  },
  {
   "cell_type": "markdown",
   "metadata": {},
   "source": [
    "#### __Example: Calculate day length__"
   ]
  },
  {
   "cell_type": "markdown",
   "metadata": {},
   "source": [
    "This function was originally developed in the ChillR R [package](https://cran.r-project.org/web/packages/chillR/chillR.pdf)"
   ]
  },
  {
   "cell_type": "code",
   "execution_count": null,
   "metadata": {},
   "outputs": [
    {
     "name": "stderr",
     "output_type": "stream",
     "text": [
      "/tmp/ipykernel_27135/2141787043.py:9: UserWarning: Double check day_length function works for Australia\n",
      "  warnings.warn('Double check day_length function works for Australia')\n"
     ]
    },
    {
     "data": {
      "text/plain": [
       "defaultdict(list,\n",
       "            {'sunrise': array([5.4049135]),\n",
       "             'sunset': array([18.5950865]),\n",
       "             'day_length': array([13.190173])})"
      ]
     },
     "execution_count": null,
     "metadata": {},
     "output_type": "execute_result"
    }
   ],
   "source": [
    "day_length(latitude=45, day_of_year=100, no_times_as_na=False)"
   ]
  },
  {
   "cell_type": "code",
   "execution_count": null,
   "metadata": {},
   "outputs": [
    {
     "name": "stderr",
     "output_type": "stream",
     "text": [
      "/tmp/ipykernel_27135/2141787043.py:9: UserWarning: Double check day_length function works for Australia\n",
      "  warnings.warn('Double check day_length function works for Australia')\n"
     ]
    },
    {
     "data": {
      "text/plain": [
       "defaultdict(list,\n",
       "            {'sunrise': array([5.98160544, 5.95020317, 5.91880891, 5.88742546, 5.85605558]),\n",
       "             'sunset': array([18.01839456, 18.04979683, 18.08119109, 18.11257454, 18.14394442]),\n",
       "             'day_length': array([12.03678911, 12.09959365, 12.16238217, 12.22514908, 12.28788884])})"
      ]
     },
     "execution_count": null,
     "metadata": {},
     "output_type": "execute_result"
    }
   ],
   "source": [
    "day_length(\n",
    "    latitude=50,\n",
    "    day_of_year=np.array([78, 79, 80, 81, 82]),\n",
    "    no_times_as_na=False,\n",
    ")"
   ]
  }
 ],
 "metadata": {
  "kernelspec": {
   "display_name": "python3",
   "language": "python",
   "name": "python3"
  }
 },
 "nbformat": 4,
 "nbformat_minor": 4
}
