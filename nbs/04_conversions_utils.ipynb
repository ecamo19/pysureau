{
 "cells": [
  {
   "cell_type": "raw",
   "metadata": {},
   "source": [
    "---\n",
    "description: 'AUTHORS: __Julien Ruffault (julien.ruff@gmail.com), Nicolas Martin-StPaul\n",
    "  (nicolas.martin@inrae.fr)__'\n",
    "output-file: conversions_utils.html\n",
    "title: Conversions functions utils\n",
    "---"
   ]
  },
  {
   "cell_type": "code",
   "execution_count": null,
   "metadata": {},
   "outputs": [],
   "source": [
    "# | default_exp conversions_utils"
   ]
  },
  {
   "cell_type": "code",
   "execution_count": null,
   "metadata": {},
   "outputs": [],
   "source": [
    "# | hide\n",
    "from nbdev.showdoc import *\n",
    "from fastcore.test import is_close"
   ]
  },
  {
   "cell_type": "code",
   "execution_count": null,
   "metadata": {},
   "outputs": [],
   "source": [
    "# | export\n",
    "import warnings\n",
    "import operator\n",
    "import collections\n",
    "import numpy as np\n",
    "from math import pi\n",
    "from typing import Dict\n",
    "from numpy import exp, cos, sin, arccos, arctan"
   ]
  },
  {
   "cell_type": "code",
   "execution_count": null,
   "metadata": {},
   "outputs": [],
   "source": [
    "# | export\n",
    "\n",
    "\n",
    "def convert_vwc_to_sws(\n",
    "    volumetric_water_content_x: float,  # Volumetric water content (m3.m-3)\n",
    "    layer_thickness: float,  # Thickness of the soil layer (in m)\n",
    "    rfc: float = 0,  # Rock fragment content of the soil layer (%)\n",
    ") -> float:  # Soil Water Stock (mm)\n",
    "    \"Convert soil volumetric water content (VWC) to soil water stock (SWS). The volume of the water quantity per square metre results in the corresponding water stock height (m3 water per m2 soil as height in mm)\"\n",
    "\n",
    "    return (\n",
    "        volumetric_water_content_x * (1 - (rfc / 100)) * layer_thickness * 1000\n",
    "    )"
   ]
  },
  {
   "cell_type": "code",
   "execution_count": null,
   "metadata": {},
   "outputs": [
    {
     "data": {
      "text/plain": [
       "250.0"
      ]
     },
     "execution_count": null,
     "metadata": {},
     "output_type": "execute_result"
    }
   ],
   "source": [
    "convert_vwc_to_sws(volumetric_water_content_x=0.5, rfc=50, layer_thickness=1)"
   ]
  },
  {
   "cell_type": "code",
   "execution_count": null,
   "metadata": {},
   "outputs": [],
   "source": [
    "# | export\n",
    "\n",
    "\n",
    "def convert_sws_to_vwc(\n",
    "    soil_water_stock_x: float,  # Soil water stock (mm)\n",
    "    layer_thickness: float,  # Thickness of the soil layer (in m)\n",
    "    rfc: float = 0,  # Rock fraction  content of the soil layer (%)\n",
    ") -> float:  # Volumetric Water Content (m3.m-3)\n",
    "    \"Convert soil water stock (SWS) to volumetric water content (VWC). Convert soil water stock (quantity as height in mm per m2 soil) to volumetric water content (m3.m-3) by accounting for the respective layer thickness and rock fragment content.\"\n",
    "    return soil_water_stock_x / ((1 - (rfc / 100)) * layer_thickness * 1000)"
   ]
  },
  {
   "cell_type": "code",
   "execution_count": null,
   "metadata": {},
   "outputs": [
    {
     "data": {
      "text/plain": [
       "0.5"
      ]
     },
     "execution_count": null,
     "metadata": {},
     "output_type": "execute_result"
    }
   ],
   "source": [
    "convert_sws_to_vwc(soil_water_stock_x=250, rfc=50, layer_thickness=1)"
   ]
  },
  {
   "cell_type": "code",
   "execution_count": null,
   "metadata": {},
   "outputs": [],
   "source": [
    "# | export\n",
    "def convert_ksat_cmday_to_ksat_micromol(\n",
    "    ksat_cmday: float,  # Saturated hydraulic conductivity? in centimeters per day\n",
    ") -> float:  # Saturated Hydraulic Conductivity?(ksat) in mmol/s/m/MPa\n",
    "    \"Convert Saturated Hydraulic Conductivity?(ksat) units from cm/day (ESDAC unit) to mmol/s/m/MPa (Sureau unit)\"\n",
    "\n",
    "    warnings.warn('Not sure if formula is correct')\n",
    "    # Should it be (ksat_cmday/24)/(3600/100)\n",
    "    ksat_ms = ksat_cmday / 24 / 3600 / 100\n",
    "\n",
    "    ksat_kg_s_m3 = ksat_ms / 0.0098\n",
    "\n",
    "    ksat_mmol_s_m_mpa = ksat_kg_s_m3 * 1000 * 1000 * 1000 / 18\n",
    "\n",
    "    return ksat_mmol_s_m_mpa"
   ]
  },
  {
   "cell_type": "code",
   "execution_count": null,
   "metadata": {},
   "outputs": [],
   "source": [
    "# | export\n",
    "def convert_rate_to_molm_s_m_mpa(\n",
    "    rate_x: float,  # A rate in L/T. The default assumes cm/d to be converted to m/s\n",
    "    molm: float = 18.01528,  # Molar mass of h2o (g mol-1)\n",
    "    pa: float = 9.80665,  # Hydrostatic pressure (Pa mm-1)\n",
    "    xfac: float = 8640000,  # Divisor converting rate (L T-1) to (m s-1). Value 8640000 comes from 24 * 60 ** 2 * 100\n",
    ") -> float:  # Converted rate to SurEau-Ecos unit (mmol.h2o s-1 m-1.soil MPa-1)\n",
    "    \"Convert a hydraulic rate to SurEau-Ecos rate\"\n",
    "\n",
    "    # TODO: consider temperature-dependency of water pressure? e.g.\n",
    "    # pa <- getPa(t = 273.15 + 4) # find specific formula\n",
    "\n",
    "    return rate_x * 1e12 / molm / pa / xfac"
   ]
  },
  {
   "cell_type": "code",
   "execution_count": null,
   "metadata": {},
   "outputs": [
    {
     "data": {
      "text/plain": [
       "655.1255924715483"
      ]
     },
     "execution_count": null,
     "metadata": {},
     "output_type": "execute_result"
    }
   ],
   "source": [
    "convert_rate_to_molm_s_m_mpa(1)"
   ]
  },
  {
   "cell_type": "code",
   "execution_count": null,
   "metadata": {},
   "outputs": [],
   "source": [
    "# | export\n",
    "def convert_molm_s_m_mpa_to_rate(\n",
    "    rate_x: float,  # # Unknown parameter definition\n",
    "    molm: float = 18.01528,  # Molar mass of h2o (g mol-1)\n",
    "    pa: float = 9.80665,  # Hydrostatic pressure (Pa mm-1)\n",
    "    xfac: float = 8640000,  # Divisor converting rate (L T-1) to (m s-1). Value 8640000 comes from 24 * 60 ** 2 * 100\n",
    ") -> float:  # A rate (L/T)\n",
    "    \"Convert SurEau-Ecos rate to a hydraulic rate. Inverse of convert_rate_to_molm_s_m_mpa() funtion.\"\n",
    "\n",
    "    return rate_x / 1e12 * molm * pa * xfac"
   ]
  },
  {
   "cell_type": "code",
   "execution_count": null,
   "metadata": {},
   "outputs": [
    {
     "data": {
      "text/plain": [
       "0.9999999999999999"
      ]
     },
     "execution_count": null,
     "metadata": {},
     "output_type": "execute_result"
    }
   ],
   "source": [
    "convert_molm_s_m_mpa_to_rate(655.1255924715483)"
   ]
  },
  {
   "cell_type": "code",
   "execution_count": null,
   "metadata": {},
   "outputs": [],
   "source": [
    "# | export\n",
    "\n",
    "\n",
    "def convert_mpa_to_m(\n",
    "    mpa_x: float,  # Hydrostatic pressure in MPa\n",
    "    pa: float = 9.80665,  # Hydrostatic pressure (Pa mm-1)\n",
    ") -> float:  # Pressure height in meters\n",
    "    \"Conversion of hydrostatic pressure (MPa) to pressure height (m)\"\n",
    "\n",
    "    return mpa_x * 1e3 / pa"
   ]
  },
  {
   "cell_type": "code",
   "execution_count": null,
   "metadata": {},
   "outputs": [
    {
     "data": {
      "text/plain": [
       "101.97162129779284"
      ]
     },
     "execution_count": null,
     "metadata": {},
     "output_type": "execute_result"
    }
   ],
   "source": [
    "convert_mpa_to_m(1)"
   ]
  },
  {
   "cell_type": "code",
   "execution_count": null,
   "metadata": {},
   "outputs": [],
   "source": [
    "# | export\n",
    "def convert_m_to_mpa(\n",
    "    m_x: float,  # Pressure height in meters\n",
    "    pa: float = 9.80665,  # Hydrostatic pressure (Pa mm-1)\n",
    ") -> float:\n",
    "    \"Conversion of pressure height (m) to hydrostatic pressure (MPa)\"\n",
    "\n",
    "    return m_x / 1e3 * pa"
   ]
  },
  {
   "cell_type": "code",
   "execution_count": null,
   "metadata": {},
   "outputs": [
    {
     "data": {
      "text/plain": [
       "1.0"
      ]
     },
     "execution_count": null,
     "metadata": {},
     "output_type": "execute_result"
    }
   ],
   "source": [
    "convert_m_to_mpa(101.97162129779284)"
   ]
  },
  {
   "cell_type": "code",
   "execution_count": null,
   "metadata": {},
   "outputs": [],
   "source": [
    "# | export\n",
    "def convert_pf_to_hpa(\n",
    "    x: float,  # Unknown parameter definition\n",
    ") -> float:  # Unknown parameter definition\n",
    "    \"Function lacks definition, documentation needs to be improved.\"\n",
    "\n",
    "    return 10 ** abs(x)"
   ]
  },
  {
   "cell_type": "code",
   "execution_count": null,
   "metadata": {},
   "outputs": [
    {
     "data": {
      "text/plain": [
       "63.09573444801933"
      ]
     },
     "execution_count": null,
     "metadata": {},
     "output_type": "execute_result"
    }
   ],
   "source": [
    "convert_pf_to_hpa(1.8)"
   ]
  },
  {
   "cell_type": "code",
   "execution_count": null,
   "metadata": {},
   "outputs": [],
   "source": [
    "# | export\n",
    "def convert_hpa_to_pf(\n",
    "    x: float,  # Unknown parameter definition\n",
    ") -> float:  # Unknown parameter definition\n",
    "    \"Function lacks definition, documentation needs to be improved.\"\n",
    "\n",
    "    return np.log10(abs(x))"
   ]
  },
  {
   "cell_type": "code",
   "execution_count": null,
   "metadata": {},
   "outputs": [
    {
     "data": {
      "text/plain": [
       "1.8"
      ]
     },
     "execution_count": null,
     "metadata": {},
     "output_type": "execute_result"
    }
   ],
   "source": [
    "convert_hpa_to_pf(63.09573444801933)"
   ]
  },
  {
   "cell_type": "code",
   "execution_count": null,
   "metadata": {},
   "outputs": [],
   "source": [
    "# | export\n",
    "def convert_vg_psi_to_theta(\n",
    "    vg_psi_x: float,  # Soil matric potential (hPa)\n",
    "    theta_s: float,  # Saturated water content (L3 L-3)\n",
    "    theta_r: float,  # Residual water content (L3 L-3)\n",
    "    a: float,  # Parameter related to the inverse of the air-entry pressure (unitless?)\n",
    "    n: float,  # Parameter related to the pore-size distribution (unitless)\n",
    ") -> float:  # Volumetric water content\n",
    "    \"Unit conversion from soil matric potential (Psi) to volumetric water content (Theta) using the Mualem-van-Genuchten pedotransfer function\"\n",
    "\n",
    "    return theta_r + (theta_s - theta_r) / (1 + abs(a * vg_psi_x) ** n) ** (\n",
    "        1 - 1 / n\n",
    "    )"
   ]
  },
  {
   "cell_type": "code",
   "execution_count": null,
   "metadata": {},
   "outputs": [
    {
     "data": {
      "text/plain": [
       "array([0.10178885, 0.27384953, 0.5       ])"
      ]
     },
     "execution_count": null,
     "metadata": {},
     "output_type": "execute_result"
    }
   ],
   "source": [
    "convert_vg_psi_to_theta(\n",
    "    vg_psi_x=np.array([-1e6, -1e2, 0]), theta_s=0.5, theta_r=0.1, a=0.05, n=1.5\n",
    ")"
   ]
  },
  {
   "cell_type": "code",
   "execution_count": null,
   "metadata": {},
   "outputs": [],
   "source": [
    "# | export\n",
    "\n",
    "\n",
    "def convert_vg_theta_to_psi(\n",
    "    vwc_theta_x: float,  # volumetric water content (L3 L-3)\n",
    "    theta_s: float,  # Saturated water content (L3 L-3)\n",
    "    theta_r: float,  # Residual water content (L3 L-3)\n",
    "    a: float,  # Parameter related to the inverse of the air-entry pressure (unitless?)\n",
    "    n: float,  # Parameter related to the pore-size distribution (unitless)\n",
    ") -> float:  # Soil matric potential\n",
    "    \"Unit conversion from volumetric water content (Theta) to soil matric potential (Psi) using the Mualem-van-Genuchten pedotransfer function\"\n",
    "\n",
    "    theta_eff = (vwc_theta_x - theta_r) / (theta_s - theta_r)\n",
    "\n",
    "    # *(-1) for negative psi\n",
    "    return (theta_eff ** (-1 / (1 - 1 / n)) - 1) ** (1 / n) / a * (-1)"
   ]
  },
  {
   "cell_type": "code",
   "execution_count": null,
   "metadata": {},
   "outputs": [
    {
     "name": "stderr",
     "output_type": "stream",
     "text": [
      "/tmp/ipykernel_9862/3671110304.py:16: RuntimeWarning: divide by zero encountered in power\n",
      "  return (theta_eff ** (-1/(1 - 1/n)) - 1) ** (1/n) / a * (-1)\n"
     ]
    },
    {
     "data": {
      "text/plain": [
       "array([       -inf, -73.1861142,  -0.       ])"
      ]
     },
     "execution_count": null,
     "metadata": {},
     "output_type": "execute_result"
    }
   ],
   "source": [
    "convert_vg_theta_to_psi(\n",
    "    vwc_theta_x=np.array([0.1, 0.3, 0.5]),\n",
    "    theta_s=0.5,\n",
    "    theta_r=0.1,\n",
    "    a=0.05,\n",
    "    n=1.5,\n",
    ")"
   ]
  },
  {
   "cell_type": "code",
   "execution_count": null,
   "metadata": {},
   "outputs": [],
   "source": [
    "# | export\n",
    "def convert_vwc_to_rew(\n",
    "    vwc_x: float,  # Volumetric Water Content (L3*L-3)\n",
    "    theta_s: float,  # Saturated water content (L3 L-3)\n",
    "    theta_r: float,  # Residual water content (L3 L-3)\n",
    ") -> float:  # Relative Extractable water\n",
    "    \"Conversion from volumetric water content to relative extractable water (REW). REW is the volumetric water content normalised to saturation capacity (REW=1) and residual capacity (REW=0)\"\n",
    "\n",
    "    return (vwc_x - theta_r) / (theta_s - theta_r)"
   ]
  },
  {
   "cell_type": "code",
   "execution_count": null,
   "metadata": {},
   "outputs": [
    {
     "data": {
      "text/plain": [
       "array([0. , 0.5, 1. ])"
      ]
     },
     "execution_count": null,
     "metadata": {},
     "output_type": "execute_result"
    }
   ],
   "source": [
    "convert_vwc_to_rew(vwc_x=np.array([0.1, 0.3, 0.5]), theta_s=0.5, theta_r=0.1)"
   ]
  },
  {
   "cell_type": "code",
   "execution_count": null,
   "metadata": {},
   "outputs": [],
   "source": [
    "# | export\n",
    "def convert_rew_to_vwc(\n",
    "    rew_x: float,  # Relative Extractable water (rew)\n",
    "    theta_s: float,  # Saturated water content (L3 L-3)\n",
    "    theta_r: float,  #  Residual water content (L3 L-3)\n",
    ") -> float:  # Volumetric Water Content (L3*L-3)\n",
    "    \"Conversion from relative extractable water to volumetric water\"\n",
    "    return rew_x * (theta_s - theta_r) + theta_r"
   ]
  },
  {
   "cell_type": "code",
   "execution_count": null,
   "metadata": {},
   "outputs": [
    {
     "data": {
      "text/plain": [
       "array([0.1, 0.3, 0.5])"
      ]
     },
     "execution_count": null,
     "metadata": {},
     "output_type": "execute_result"
    }
   ],
   "source": [
    "convert_rew_to_vwc(rew_x=np.array([0, 0.5, 1]), theta_s=0.5, theta_r=0.1)"
   ]
  },
  {
   "cell_type": "code",
   "execution_count": null,
   "metadata": {},
   "outputs": [],
   "source": [
    "# | export\n",
    "def convert_mmol_to_m3(\n",
    "    mmol_h2o_x: float,  # Unit to be converted (mmol, m³ or mm depending on the used function\n",
    "    molm: float = 18.01528,  # Molar mass of h2o (g mol-1)\n",
    "    pw: float = 998,  # Density of water (kg m-3.h2o)\n",
    ") -> float:  # Unknown parameter\n",
    "    \"Stochiometric conversion between volume and molarity  In case of converting from or to millimetres (mm), the actual unit is the volume divided by its area, resulting in a depth given in millimetres.\"\n",
    "\n",
    "    return mmol_h2o_x * molm / pw / 1e6  # 1e6 = mmol to mol and g to kg"
   ]
  },
  {
   "cell_type": "code",
   "execution_count": null,
   "metadata": {},
   "outputs": [
    {
     "data": {
      "text/plain": [
       "1.8051382765531063e-08"
      ]
     },
     "execution_count": null,
     "metadata": {},
     "output_type": "execute_result"
    }
   ],
   "source": [
    "convert_mmol_to_m3(1)"
   ]
  },
  {
   "cell_type": "code",
   "execution_count": null,
   "metadata": {},
   "outputs": [],
   "source": [
    "def convert_m3_to_mmol(\n",
    "    m3_x: float,\n",
    "    molm: float = 18.01528,  # Molar mass of h2o (g mol-1)\n",
    "    pw: float = 998,  # Density of water (kg m-3.h2o)\n",
    ") -> float:  #\n",
    "    \"Stochiometric conversion between volume and molarity  In case of converting from or to millimetres (mm), the actual unit is the volume divided by its area, resulting in a depth given in millimetres.\"\n",
    "\n",
    "    return m3_x / molm * pw * 1e6"
   ]
  },
  {
   "cell_type": "code",
   "execution_count": null,
   "metadata": {},
   "outputs": [
    {
     "data": {
      "text/plain": [
       "1.0"
      ]
     },
     "execution_count": null,
     "metadata": {},
     "output_type": "execute_result"
    }
   ],
   "source": [
    "convert_m3_to_mmol(1.8051382765531063e-08)"
   ]
  },
  {
   "cell_type": "code",
   "execution_count": null,
   "metadata": {},
   "outputs": [],
   "source": [
    "# | export\n",
    "def convert_mmol_to_mm(\n",
    "    mmol_h2o_x: float,  # Unit to be converted (mmol, m³ or mm depending on the used function\n",
    "    molm: float = 18.01528,  # Molar mass of h2o (g mol-1)\n",
    "    pw: float = 998,  # Density of water (kg m-3.h2o)\n",
    ") -> float:  # Unknown parameter\n",
    "    \"Stochiometric conversion between volume and molarity  In case of converting from or to millimetres (mm), the actual unit is the volume divided by its area, resulting in a depth given in millimetres.\"\n",
    "    return mmol_h2o_x * molm / pw / 1e3  # 1e6 = mmol to mol and g to kg"
   ]
  },
  {
   "cell_type": "code",
   "execution_count": null,
   "metadata": {},
   "outputs": [
    {
     "data": {
      "text/plain": [
       "1.8051382765531063e-05"
      ]
     },
     "execution_count": null,
     "metadata": {},
     "output_type": "execute_result"
    }
   ],
   "source": [
    "convert_mmol_to_mm(1)"
   ]
  },
  {
   "cell_type": "code",
   "execution_count": null,
   "metadata": {},
   "outputs": [],
   "source": [
    "def convert_mm_to_mmol(\n",
    "    mm_x: float,\n",
    "    molm: float = 18.01528,  # Molar mass of h2o (g mol-1)\n",
    "    pw: float = 998,  # Density of water (kg m-3.h2o)\n",
    ") -> float:\n",
    "    \"Stochiometric conversion between volume and molarity  In case of converting from or to millimetres (mm), the actual unit is the volume divided by its area, resulting in a depth given in millimetres.\"\n",
    "\n",
    "    return mm_x / molm * pw * 1e3"
   ]
  },
  {
   "cell_type": "code",
   "execution_count": null,
   "metadata": {},
   "outputs": [
    {
     "data": {
      "text/plain": [
       "1.0"
      ]
     },
     "execution_count": null,
     "metadata": {},
     "output_type": "execute_result"
    }
   ],
   "source": [
    "convert_mm_to_mmol(1.8051382765531063e-05)"
   ]
  },
  {
   "cell_type": "code",
   "execution_count": null,
   "metadata": {},
   "outputs": [],
   "source": [
    "# | export\n",
    "def convert_compartment_leaf_to_soil(\n",
    "    x: float,  # Unknown parameter definition m2.leaf\n",
    "    lai: float = 1,  # Leaf Area Index\n",
    ") -> float:  # Unknown parameter m2.soil\n",
    "    \"Function lacks definition, documentation needs to be improved.\"\n",
    "    return x * lai"
   ]
  },
  {
   "cell_type": "code",
   "execution_count": null,
   "metadata": {},
   "outputs": [],
   "source": [
    "# | export\n",
    "def convert_compartment_soil_to_leaf(\n",
    "    x: float,  # Unknown parameter definition m2.soil\n",
    "    lai: float = 1,  # Leaf Area Index\n",
    ") -> float:  # Unknown parameter m2.leaf\n",
    "    \"Function lacks definition, documentation needs to be improved.\"\n",
    "    return x / lai"
   ]
  },
  {
   "cell_type": "code",
   "execution_count": null,
   "metadata": {},
   "outputs": [],
   "source": [
    "# | export\n",
    "def convert_compartment_stem_to_leaf(\n",
    "    stem_x: float,  # Unknown parameter definition m2.stem\n",
    "    hv: float,  # Huber value (sap wood / leaf area)\n",
    ") -> float:  # Unknown parameter m2.leaf\n",
    "    \"Function lacks definition, documentation needs to be improved.\"\n",
    "    return stem_x * hv"
   ]
  },
  {
   "cell_type": "code",
   "execution_count": null,
   "metadata": {},
   "outputs": [],
   "source": [
    "# | export\n",
    "def convert_compartment_leaf_to_stem(\n",
    "    leaf_x: float,  # Unknown parameter definition m2.leaf\n",
    "    hv: float,  # Huber value (sap wood / leaf area)\n",
    ") -> float:  # Unknown parameter m2.stem\n",
    "    \"Function lacks definition, documentation needs to be improved.\"\n",
    "    return leaf_x / hv"
   ]
  },
  {
   "cell_type": "code",
   "execution_count": null,
   "metadata": {},
   "outputs": [],
   "source": [
    "# | export\n",
    "def convert_compartment_stem_to_soil(\n",
    "    stem_x: float,  # Unknown parameter definition\n",
    "    swi: float,  # Sap wood index (m2.sapwood m-2.soil)\n",
    ") -> float:  # Unknown parameter m2.soil\n",
    "    \"Function lacks definition, documentation needs to be improved.\"\n",
    "    return stem_x * swi"
   ]
  },
  {
   "cell_type": "code",
   "execution_count": null,
   "metadata": {},
   "outputs": [],
   "source": [
    "# | export\n",
    "def convert_compartment_soil_to_stem(\n",
    "    soil_x: float,  # Unknown parameter definition\n",
    "    swi: float,  # Sap wood index (m2.sapwood m-2.soil)\n",
    ") -> float:  # Unknown parameter m2.stem\n",
    "    \"Function lacks definition, documentation needs to be improved.\"\n",
    "\n",
    "    return soil_x / swi"
   ]
  },
  {
   "cell_type": "code",
   "execution_count": null,
   "metadata": {},
   "outputs": [],
   "source": [
    "def convert_stock_to_flux(\n",
    "    x: float,\n",
    "    dt: int,  # Time step length in seconds\n",
    ") -> float:  #\n",
    "    \"Function lacks definition, documentation needs to be improved.\"\n",
    "    return x / dt"
   ]
  },
  {
   "cell_type": "code",
   "execution_count": null,
   "metadata": {},
   "outputs": [],
   "source": [
    "def convert_flux_to_stock(\n",
    "    x: float,\n",
    "    dt: int,  # Time step length in seconds\n",
    ") -> float:  #\n",
    "    \"Function lacks definition, documentation needs to be improved.\"\n",
    "    return x * dt"
   ]
  },
  {
   "cell_type": "code",
   "execution_count": null,
   "metadata": {},
   "outputs": [],
   "source": [
    "# | hide\n",
    "# def convert_flux_mmol_s_m2_leaf_to_mm_m2_soil(\n",
    "#    mmol_h2o_m2_leaf_s_1_x: float,  # Unknown parameter definition\n",
    "#    lai: float,  #\n",
    "#    dt: float,  # Time step length in seconds\n",
    "# ) -> float:  # Unknown parameter definition mm.h2o m-2.soil h-1 dt-1\n",
    "#\n",
    "#    'Function lacks definition, documentation needs to be improved.'\n",
    "#\n",
    "#    x_m2_soil = convert_flux_m2_leaf_to_m2_soil(\n",
    "#        m2_leaf_x=mmol_h2o_m2_leaf_s_1_x, lai=lai\n",
    "#    )\n",
    "#    x_m3 = convert_flux_mmol_to_m3(mmol_h2o_x=x_m2_soil)\n",
    "#\n",
    "#    # 1e3 = m3 to l = mm m-2.soil\n",
    "#    return x_m3 * 1e3 * dt * 3600"
   ]
  },
  {
   "cell_type": "code",
   "execution_count": null,
   "metadata": {},
   "outputs": [],
   "source": [
    "# | hide\n",
    "# def convert_flux_mmol_s_m2_leaf_to_mm_m2_stem(\n",
    "#    mmol_h2o_m2_leaf_s_1_x: float,  # Unknown parameter definition\n",
    "#    hv: float,  # Hubber value?\n",
    "#    dt: float,  # Unknown parameter definition\n",
    "# ) -> float:  # mm.h2o m-2.stem h-1 dt-1\n",
    "#    'Function lacks definition, documentation needs to be improved.'\n",
    "#\n",
    "#    x_m2_stem = convert_flux_m2_leaf_to_m2_stem(\n",
    "#        m2_leaf_x=mmol_h2o_m2_leaf_s_1_x, hv=hv\n",
    "#    )\n",
    "#    x_m3 = convert_flux_mmol_to_m3(mmol_h2o_x=x_m2_stem)\n",
    "#\n",
    "#    # 1e3 = m3 to l = mm m-2.soil\n",
    "#    return x_m3 * 1e3 * dt * 3600"
   ]
  },
  {
   "cell_type": "code",
   "execution_count": null,
   "metadata": {},
   "outputs": [],
   "source": [
    "# | export\n",
    "def convert_stock_mm_soil_to_flux_mmol_leaf(\n",
    "    stand_water_stock_x: float,  # Stand level water stock for a given LAI in mm(L m-2Soil) over the period of time considered\n",
    "    lai: float,  # Leaf area Index\n",
    "    dt: float,  # Time step length in seconds\n",
    "    molm: float = 18.01528,  # Molar mass of h2o (g mol-1)\n",
    "    pw: float = 998,  # Density of water (kg m-3.h2o)\n",
    ") -> float:  # Instantaneous leaf area-based flux (mmol m-2Leaf s-1)\n",
    "    \"Converts a stand level water quantity (mm, i.e. L m-2Soil) over a defined time period to a leaf area-based flux (mmol m-2Leaf s-1) for a given leaf area index\"\n",
    "\n",
    "    if isinstance(stand_water_stock_x, float):\n",
    "        # Transform floatg values into array\n",
    "        stand_water_stock_x = np.array([stand_water_stock_x])\n",
    "\n",
    "    # Conversion ----------------------------------------------------------------\n",
    "    if lai > 0:\n",
    "        flux = convert_stock_to_flux(x=stand_water_stock_x, dt=dt)\n",
    "        mmol = convert_mm_to_mmol(mm_x=flux, molm=molm, pw=pw)\n",
    "\n",
    "        return convert_compartment_soil_to_leaf(x=mmol, lai=lai)\n",
    "\n",
    "    else:\n",
    "        # print(len(np.array(stand_water_stock_x)))\n",
    "        return np.repeat(0, repeats=len(stand_water_stock_x))"
   ]
  },
  {
   "cell_type": "code",
   "execution_count": null,
   "metadata": {},
   "outputs": [
    {
     "data": {
      "text/plain": [
       "10.25878114660526"
      ]
     },
     "execution_count": null,
     "metadata": {},
     "output_type": "execute_result"
    }
   ],
   "source": [
    "convert_stock_mm_soil_to_flux_mmol_leaf(stand_water_stock_x=2, dt=60**2, lai=3)"
   ]
  },
  {
   "cell_type": "code",
   "execution_count": null,
   "metadata": {},
   "outputs": [],
   "source": [
    "def convert_flux_mmol_leaf_to_stock_mm_soil(\n",
    "    leaf_area_based_flux: float,  # Instantaneous leaf area-based flux to be converted (mmol m-2Leaf s-1)\n",
    "    dt: float,  # Time step length in seconds\n",
    "    lai: float,  # Leaf area Index\n",
    "    molm: float = 18.01528,  # Molar mass of h2o (g mol-1)\n",
    "    pw: float = 998,  # Density of water (kg m-3.h2o)\n",
    ") -> float:  # Stand level water stock for a given LAI in mm (L m-2Soil) over the period of time considered.\n",
    "    \"Converts an instantaneous leaf area-based flux (mmol m-2Leaf s-1) to a stand level water quantity (mm, i.e. L m-2Soil) for a given leaf area index over a defined time period.\"\n",
    "    stock = convert_flux_to_stock(x=leaf_area_based_flux, dt=dt)\n",
    "    mm = convert_mmol_to_mm(mmol_h2o_x=stock, molm=molm, pw=pw)\n",
    "\n",
    "    return convert_compartment_leaf_to_soil(x=mm, lai=lai)"
   ]
  },
  {
   "cell_type": "code",
   "execution_count": null,
   "metadata": {},
   "outputs": [
    {
     "data": {
      "text/plain": [
       "1.9495493386773552"
      ]
     },
     "execution_count": null,
     "metadata": {},
     "output_type": "execute_result"
    }
   ],
   "source": [
    "# 10 mmol/s over a period of 1 hour with an LAI of 3 m² is converted to\n",
    "# millimetres of soil water stock (L/m²)\n",
    "\n",
    "convert_flux_mmol_leaf_to_stock_mm_soil(leaf_area_based_flux=10, dt=60**2, lai=3)"
   ]
  },
  {
   "cell_type": "code",
   "execution_count": null,
   "metadata": {},
   "outputs": [],
   "source": [
    "# | export\n",
    "def convert_optim_mm_soil_to_mmol_leaf(\n",
    "    instaneous_flux: float,  # Stand level water stock for a given LAI in mm (L m-2Soil) over the period of time considered\n",
    "    dt: float,  # Time step length in seconds\n",
    "    lai: float,  # Leaf area index\n",
    ") -> float:  # Instantaneous leaf area-based flux (mmol m-2Leaf s-1\n",
    "    \"Converts a stand level water quantity (mm, i.e. L m-2Soil) over a defined time period to a leaf area-based flux (mmol m-2Leaf s-1) for a given leaf area index.\"\n",
    "    if lai > 0:\n",
    "        # originally version\n",
    "        # x * LAI * dt * 3600 * 18 / 1e6\n",
    "        #\n",
    "        # hard-coded unit conversion for computational speed-up\n",
    "        # - 3600 * 18 / 1e6 = 0.0648\n",
    "        # - TODO: more exact and equally fast would be\n",
    "        #   hours_to_secs * molm / pw / 1e3\n",
    "        #   3600 * 18.01528 / 998 / 1e3 = 0.06498498\n",
    "        # a more flexible function is given with convert_flux_mmol_s_m2Leaf_To_mm_m2Soil\n",
    "        return instaneous_flux / lai * dt * 1.8e-5  # 0.06498498\n",
    "\n",
    "    else:\n",
    "        raise ValueError('Failed convert_optim_mm_soil_to_mmol_leaf. lai < 0')"
   ]
  },
  {
   "cell_type": "code",
   "execution_count": null,
   "metadata": {},
   "outputs": [],
   "source": [
    "# | export\n",
    "def convert_optim_mmol_leaf_to_mm_soil(\n",
    "    x: float,  # Instantaneous leaf area-based flux to be converted (mmol m-2Leaf s-1)\n",
    "    dt: float,  # Time step length in seconds\n",
    "    lai: float,  # Leaf area index\n",
    ") -> float:  # Stand level water stock for a given LAI in mm (L m-2Soil) over the period of time considered\n",
    "    \"Converts an instantaneous leaf area-based flux (mmol m-2Leaf s-1) to a stand level water quantity\"\n",
    "\n",
    "    return x * lai * dt * 1.8e-5"
   ]
  },
  {
   "cell_type": "markdown",
   "metadata": {},
   "source": [
    "## Functions of conversion and temporal disagregation of climatic variable as well as PET computation\n",
    "\n"
   ]
  },
  {
   "cell_type": "code",
   "execution_count": null,
   "metadata": {},
   "outputs": [],
   "source": [
    "# | export\n",
    "def compute_vpd_from_temp_rh(\n",
    "    relative_humidity: float,  # Air relative_humidity (%)\n",
    "    temperature: float,  # Air temperature (degrees Celsius)\n",
    "    air_pressure: float = 101325,  # Air pressure (Pa)\n",
    ") -> float:\n",
    "    \"Compute vapor pressure deficit (VPD) from air relative humidity (rh) and air temperature (temp)\"\n",
    "\n",
    "    # Assert parameters ---------------------------------------------------------\n",
    "\n",
    "    # relative_humidity\n",
    "\n",
    "    # Using np.testing instead of assert because parameters can be np.arrays OR\n",
    "    # single values (i.e. 1). assert only works when params are always one type\n",
    "    # Solution from:\n",
    "    # https://stackoverflow.com/questions/45987962/why-arent-there-numpy-testing-assert-array-greater-assert-array-less-equal-as\n",
    "\n",
    "    np.testing.assert_array_compare(\n",
    "        operator.__gt__,\n",
    "        np.array(relative_humidity),\n",
    "        0,\n",
    "        err_msg='\\nrelative_humidity must be must be a integer value between 0-100\\n',\n",
    "    )\n",
    "\n",
    "    np.testing.assert_array_less(\n",
    "        np.array(relative_humidity),\n",
    "        101,\n",
    "        err_msg='\\nrelative_humidity must be must be a integer value between 0-100\\n',\n",
    "    )\n",
    "\n",
    "    # temperature\n",
    "    np.testing.assert_array_compare(\n",
    "        operator.__gt__,\n",
    "        np.array(temperature),\n",
    "        -100,\n",
    "        err_msg='\\ntemperature must be must be value between -100 and 100\\n',\n",
    "    )\n",
    "\n",
    "    np.testing.assert_array_less(\n",
    "        np.array(temperature),\n",
    "        101,\n",
    "        err_msg='\\ntemperature must be must be value between -100 and 100\\n',\n",
    "    )\n",
    "\n",
    "    # Define Constants ----------------------------------------------------------\n",
    "\n",
    "    # molar weight dry air (g/mol)\n",
    "    molar_weight_dry_air = 28.966\n",
    "\n",
    "    # molar weight H20 H2O(g/mol) Mh2o not used in this function??\n",
    "    # mass_h2o = 18\n",
    "\n",
    "    # Perfect gas constant %J/mol/K\n",
    "    rgz = 8.314472\n",
    "\n",
    "    # conversion of temperature in K\n",
    "    temp_kelvin = temperature + 273.15\n",
    "\n",
    "    # D_air not used in this function??\n",
    "    # d_air = ((air_pressure) / (rgz * (temp_kelvin))) * molar_weight_dry_air\n",
    "\n",
    "    # Using esat calculation from Planyecophys R package\n",
    "    a = 611.21\n",
    "    b = 17.502\n",
    "    c = 240.97\n",
    "    f = 1.0007 + 3.46 * 1e-08 * 101 * 1000\n",
    "\n",
    "    es = f * a * (exp(b * temperature / (c + temperature)))\n",
    "\n",
    "    # Old calculation\n",
    "    # es = 6.108 * exp(17.27 * temperature / (237.2 + temperature)) * 100\n",
    "\n",
    "    ea = relative_humidity / 100 * es\n",
    "\n",
    "    # Compute VPD ---------------------------------------------------------------\n",
    "\n",
    "    vpd = (es - ea) / 1000\n",
    "\n",
    "    # Step implemented in case vpd is a single value i.e. vpd = 41\n",
    "    if isinstance(vpd, float):\n",
    "        # Transform floatg values into array\n",
    "        vpd = np.array([vpd])\n",
    "\n",
    "    # else not included because generates erro\n",
    "\n",
    "    # else:\n",
    "    #    raise ValueError(\n",
    "    #            'Error computing vpd from rh and temp'\n",
    "    #        )\n",
    "\n",
    "    # Remove negative values if exits\n",
    "    vpd[vpd < 0] = 0\n",
    "\n",
    "    return vpd"
   ]
  },
  {
   "cell_type": "markdown",
   "metadata": {},
   "source": [
    "#### __Example: Compute VPD__"
   ]
  },
  {
   "cell_type": "code",
   "execution_count": null,
   "metadata": {},
   "outputs": [
    {
     "data": {
      "text/plain": [
       "array([4.76019573])"
      ]
     },
     "execution_count": null,
     "metadata": {},
     "output_type": "execute_result"
    }
   ],
   "source": [
    "compute_vpd_from_temp_rh(relative_humidity=70, temperature=55)"
   ]
  },
  {
   "cell_type": "code",
   "execution_count": null,
   "metadata": {},
   "outputs": [
    {
     "data": {
      "text/plain": [
       "array([36.10624792, 53.70318944])"
      ]
     },
     "execution_count": null,
     "metadata": {},
     "output_type": "execute_result"
    }
   ],
   "source": [
    "compute_vpd_from_temp_rh(relative_humidity=25, temperature=np.array([80, 90]))"
   ]
  },
  {
   "cell_type": "code",
   "execution_count": null,
   "metadata": {},
   "outputs": [],
   "source": [
    "# | hide\n",
    "\n",
    "# Test that function return a positive value\n",
    "assert compute_vpd_from_temp_rh(relative_humidity=80, temperature=25) > 0"
   ]
  },
  {
   "cell_type": "code",
   "execution_count": null,
   "metadata": {},
   "outputs": [
    {
     "data": {
      "text/plain": [
       "True"
      ]
     },
     "execution_count": null,
     "metadata": {},
     "output_type": "execute_result"
    }
   ],
   "source": [
    "# | hide\n",
    "\n",
    "# Test that function return a known anwser\n",
    "is_close(\n",
    "    compute_vpd_from_temp_rh(relative_humidity=80, temperature=25),\n",
    "    # Value from https://cales.arizona.edu/vpdcalc/\n",
    "    0.634,\n",
    "    eps=1e-02,\n",
    ")"
   ]
  },
  {
   "cell_type": "code",
   "execution_count": null,
   "metadata": {},
   "outputs": [],
   "source": [
    "# | export\n",
    "def compute_slope_sat(\n",
    "    tmoy: float,  # Mean daily temperature in °C\n",
    ") -> float:  # Slope of the saturation vapour pressure function\n",
    "    \"Compute slope of the saturation vapour pressure function (AO 1998)\"\n",
    "\n",
    "    return (\n",
    "        4098\n",
    "        * 0.6108\n",
    "        * np.exp((17.27 * tmoy) / (tmoy + 237.3))\n",
    "        / ((tmoy + 237.3) ** 2)\n",
    "    )"
   ]
  },
  {
   "cell_type": "code",
   "execution_count": null,
   "metadata": {},
   "outputs": [],
   "source": [
    "# | export\n",
    "\n",
    "\n",
    "def compute_pet(\n",
    "    tmoy: float,  # Mean temperature over the considered time step (degrees Celsius)\n",
    "    net_radiation: float,  # Cumulative Net radiation over the considered time sep (MJ.m2)\n",
    "    g: float = 0,  # Energy storage parameter. Represents ground heat flux\n",
    "    vpd: float = None,  # Vapor pressure deficit (kpa) for calculating etp using the Penman-Monteith (penman) formulation\n",
    "    wind_speed_u: float = None,  #  Wind speed (m.s-1) for calculating etp using the Penman-monteith (penman) formulation\n",
    "    pt_coeff: float = None,  # An empirical constant accounting for the vapor pressure deficit and resistance values. Typically, α is 1.26 for open bodies of water, but has a wide range of values from less than 1 (humid conditions) to almost 2 (arid conditions).\n",
    "    formulation: str = 'pt',  # String indicating which formulation to use (Pristeley Taylor (pt) or Penman-Monteith (penman)) for calculating potential evapotranspiration\n",
    ") -> float:  #  Potential evapotranspiration (PET) (mm)\n",
    "    \"Calcule Potential Evapotranspiration (mm) PET using Pristeley Taylor (pt) or Penmman (penman) formulation\"\n",
    "\n",
    "    # Assert parameters ---------------------------------------------------------\n",
    "    # tmoy\n",
    "    assert (\n",
    "        isinstance(tmoy, float)\n",
    "        | isinstance(tmoy, int)\n",
    "        | isinstance(tmoy, np.ndarray)\n",
    "    ), 'tmoy parameter must be a float or integer value'\n",
    "\n",
    "    # net_radiation\n",
    "    assert (\n",
    "        isinstance(net_radiation, float)\n",
    "        | isinstance(net_radiation, int)\n",
    "        | isinstance(net_radiation, np.ndarray)\n",
    "    ), 'net_radiation parameter must be a float or integer value'\n",
    "\n",
    "    # g\n",
    "    assert (\n",
    "        isinstance(g, float) | isinstance(g, int) | isinstance(g, np.ndarray)\n",
    "    ), 'g parameter must be a float or integer value'\n",
    "\n",
    "    # Formulation\n",
    "    assert formulation in ['pt', 'penman'], (\n",
    "        f'{formulation} not a valid option for formulation, select \"pt\" for Pristeley Taylor (pt) or \"penman\" for Penmman'\n",
    "    )\n",
    "\n",
    "    # wind_speed\n",
    "    if formulation == 'penman':\n",
    "        assert (\n",
    "            isinstance(wind_speed_u, float)\n",
    "            | isinstance(wind_speed_u, int)\n",
    "            | isinstance(wind_speed_u, np.ndarray)\n",
    "        ), (\n",
    "            'Parameter wind_speed_u required for penman formulation. This must be a float or integer value'\n",
    "        )\n",
    "\n",
    "        # vpd\n",
    "        assert (\n",
    "            isinstance(vpd, float)\n",
    "            | isinstance(vpd, int)\n",
    "            | isinstance(vpd, np.ndarray)\n",
    "        ), (\n",
    "            'Parameter vpd required for penman formulation. This must be a float or integer value'\n",
    "        )\n",
    "\n",
    "    # pt_coeff\n",
    "    if formulation == 'pt' and pt_coeff is None:\n",
    "        warnings.warn('Using default value of 1.26 for pt_coeff')\n",
    "        pt_coeff = 1.26\n",
    "\n",
    "    elif formulation == 'pt' and pt_coeff is not None:\n",
    "        assert (\n",
    "            isinstance(pt_coeff, float)\n",
    "            | isinstance(pt_coeff, int)\n",
    "            | isinstance(pt_coeff, np.ndarray)\n",
    "        ), (\n",
    "            'Parameter pt_coeff required for pt formulation. This must be a float or integer value'\n",
    "        )\n",
    "\n",
    "    # Calculate pet -------------------------------------------------------------\n",
    "\n",
    "    # Pristeley-Taylor formulation\n",
    "    if formulation == 'pt':\n",
    "        # Define Constants\n",
    "\n",
    "        # Stefan-Boltzman constant [MJ.K^-4.m^-2.day^-1]\n",
    "        # sb_constant = 4.903 * 10**9\n",
    "\n",
    "        # Psychometer constant\n",
    "        gamma = 0.0666\n",
    "\n",
    "        # Latent heat of vaporisation\n",
    "        lamb = 2.45\n",
    "\n",
    "        #  s: slope of the saturation vapour pressure function (AO 1998)\n",
    "        slope_sta = compute_slope_sat(tmoy=tmoy)\n",
    "\n",
    "        # Return ETP\n",
    "        return (\n",
    "            pt_coeff\n",
    "            * (slope_sta / (slope_sta + gamma))\n",
    "            * ((net_radiation - g) / lamb)\n",
    "        )\n",
    "\n",
    "    # Penman formulation\n",
    "    elif formulation == 'penman':\n",
    "        # Define Constants\n",
    "\n",
    "        # Stefan-Boltzman constant [MJ.K^-4.m^-2.day^-1]\n",
    "        # sb_constant = 4.903 * 10**9\n",
    "\n",
    "        # Psychometer constant\n",
    "        gamma = 0.0666\n",
    "\n",
    "        # Latent heat of vaporisation\n",
    "        # lambda = 2.45\n",
    "\n",
    "        #  s: slope of the saturation vapour pressure function (AO 1998)\n",
    "        delta = (\n",
    "            4098\n",
    "            * 0.6108\n",
    "            * np.exp((17.27 * tmoy) / (tmoy + 237.3))\n",
    "            / ((tmoy + 237.3) ** 2)\n",
    "        )\n",
    "\n",
    "        # ga = 0.34 * max(u, 0.001)\n",
    "\n",
    "        u2 = wind_speed_u * (4.87 / np.log(67.8 * 10 - 5.42))\n",
    "\n",
    "        n1 = 0.408 * delta * net_radiation\n",
    "        n2 = gamma * (37 / (tmoy + 273)) * u2 * vpd\n",
    "        d = delta + gamma * (1 + 0.34 * u2)\n",
    "\n",
    "        # Return pet\n",
    "        return (n1 + n2) / (d)"
   ]
  },
  {
   "cell_type": "markdown",
   "metadata": {},
   "source": [
    "#### __Example: Compute Potential Evapotranspiration__"
   ]
  },
  {
   "cell_type": "code",
   "execution_count": null,
   "metadata": {},
   "outputs": [],
   "source": [
    "compute_pet(tmoy=80, net_radiation=25, formulation='pt')"
   ]
  },
  {
   "cell_type": "code",
   "execution_count": null,
   "metadata": {},
   "outputs": [],
   "source": [
    "compute_pet(\n",
    "    tmoy=20, net_radiation=1, wind_speed_u=2, vpd=2, formulation='penman'\n",
    ")"
   ]
  },
  {
   "cell_type": "code",
   "execution_count": null,
   "metadata": {},
   "outputs": [
    {
     "data": {
      "text/plain": [
       "1.126055124868983"
      ]
     },
     "execution_count": null,
     "metadata": {},
     "output_type": "execute_result"
    }
   ],
   "source": [
    "compute_pet(\n",
    "    tmoy=15, net_radiation=5, wind_speed_u=2, vpd=1, formulation='penman'\n",
    ")"
   ]
  },
  {
   "cell_type": "code",
   "execution_count": null,
   "metadata": {},
   "outputs": [],
   "source": [
    "# | hide\n",
    "\n",
    "# Test that function return a positive value\n",
    "assert compute_pet(tmoy=80, net_radiation=25, formulation='pt') > 0"
   ]
  },
  {
   "cell_type": "code",
   "execution_count": null,
   "metadata": {},
   "outputs": [],
   "source": [
    "# | hide\n",
    "\n",
    "# Test that function return a known anwser\n",
    "is_close(\n",
    "    compute_pet(tmoy=80, net_radiation=25, formulation='pt'), 12.4292, eps=1e-02\n",
    ")"
   ]
  },
  {
   "cell_type": "code",
   "execution_count": null,
   "metadata": {},
   "outputs": [],
   "source": [
    "# | hide\n",
    "# Test that function return a positive value\n",
    "assert (\n",
    "    compute_pet(\n",
    "        tmoy=20, net_radiation=1, wind_speed_u=2, vpd=2, formulation='penman'\n",
    "    )\n",
    "    > 0\n",
    ")"
   ]
  },
  {
   "cell_type": "code",
   "execution_count": null,
   "metadata": {},
   "outputs": [],
   "source": [
    "# | hide\n",
    "\n",
    "# Test that function return a known anwser\n",
    "is_close(\n",
    "    compute_pet(\n",
    "        tmoy=20, net_radiation=1, wind_speed_u=2, vpd=2, formulation='penman'\n",
    "    ),\n",
    "    0.3434,\n",
    "    eps=1e-02,\n",
    ")"
   ]
  },
  {
   "cell_type": "code",
   "execution_count": null,
   "metadata": {},
   "outputs": [],
   "source": [
    "# | export\n",
    "\n",
    "\n",
    "def calculate_radiation_diurnal_pattern(\n",
    "    time_of_day: int,  # Numeric value of vector indicating the time of the day (in seconds)\n",
    "    day_length: int,  # Value indicating the duration of the day (in seconds). Calculated using the `day_length` function\n",
    ") -> float:\n",
    "    \"Calculated diurnal pattern of temperature assuming a sinusoidal pattern with T = tmin at sunrise and T = (tmin + tmax)/2 at sunset. From sunset to sunrise follows a linear trend\"\n",
    "\n",
    "    # Assert parameters ---------------------------------------------------------\n",
    "\n",
    "    # time_of_day\n",
    "\n",
    "    # Using np.testing instead of assert because parameters can be np.arrays OR\n",
    "    # single values (i.e. 1). assert only works when params are always one type\n",
    "    # Solution from:\n",
    "    # https://stackoverflow.com/questions/45987962/why-arent-there-numpy-testing-assert-array-greater-assert-array-less-equal-as\n",
    "\n",
    "    # if time_of_day < 0:\n",
    "    #    warnings.warn(\n",
    "    #        'time_of_day is a negative value. Not sure if this is correct'\n",
    "    #    )\n",
    "    # np.testing.assert_array_compare(\n",
    "    #    operator.__ge__,\n",
    "    #    np.array(time_of_day),\n",
    "    #    0,\n",
    "    #    err_msg=\"\\ntime_of_day must be must be value between 0 and 86400\\n\",\n",
    "    # )\n",
    "    #\n",
    "    # np.testing.assert_array_less(\n",
    "    #    np.array(time_of_day),\n",
    "    #    86401,\n",
    "    #    err_msg=\"\\ntime_of_day must be must be value between 0 and 86400\\n\",\n",
    "    # )\n",
    "\n",
    "    # day_length\n",
    "    np.testing.assert_array_compare(\n",
    "        operator.__ge__,\n",
    "        np.array(day_length),\n",
    "        0,\n",
    "        err_msg='\\nday_length must be must be value between 0 and 86400\\n',\n",
    "    )\n",
    "\n",
    "    np.testing.assert_array_less(\n",
    "        np.array(day_length),\n",
    "        # This value is 86401 and not 86400 because of the\n",
    "        # np.testing.assert_array_less\n",
    "        86401,\n",
    "        err_msg='\\nday_length must be must be value between 0 and 86400\\n',\n",
    "    )\n",
    "\n",
    "    # Raise warning for time_of_day and day_length\n",
    "    # warnings.warn('Double check that time_of_day and day_length are in seconds')\n",
    "\n",
    "    # Calculate_radiation_diurnal_pattern ---------------------------------------\n",
    "\n",
    "    # sunrise\n",
    "    ws = (day_length / 3600.0) * (pi / 24.0)\n",
    "    w = ws - (time_of_day / day_length) * (ws * 2.0)\n",
    "\n",
    "    prop = ((pi / 24.0) * (cos(w) - cos(ws))) / (sin(ws) - ws * cos(ws))\n",
    "\n",
    "    return prop / 3600.0"
   ]
  },
  {
   "cell_type": "markdown",
   "metadata": {},
   "source": [
    "#### __Example: Calculate radiation diurnal pattern__"
   ]
  },
  {
   "cell_type": "code",
   "execution_count": null,
   "metadata": {},
   "outputs": [],
   "source": [
    "calculate_radiation_diurnal_pattern(time_of_day=1, day_length=40)"
   ]
  },
  {
   "cell_type": "code",
   "execution_count": null,
   "metadata": {},
   "outputs": [],
   "source": [
    "# | export\n",
    "\n",
    "\n",
    "def calculate_temperature_diurnal_pattern(\n",
    "    time_of_day: float,  # Value of vector indicating the time of the day (in seconds from sunrise)\n",
    "    day_length: int,  # Value indicating the duration of the day (in seconds). Calculated using the `day_length` function\n",
    "    tmin: float,  # Minimum temperature (in degrees C) of the target day of the year\n",
    "    tmax: float,  # Maximum temperature (in degrees C) of the target day of the year\n",
    "    tmin_prev: float,  # Minimum temperature (in degrees C) of the previous target day of the year\n",
    "    tmax_prev: float,  # Maximum temperature (in degrees C) of the previous target day of the year\n",
    "    tmin_next: float,  # Minimum temperature (in degrees C) of the next target day of the year\n",
    ") -> float:  # Temperature at the given time\n",
    "    \"Calculated diurnal pattern of temperature assuming a sinusoidal pattern with T = tmin at sunrise and T = (tmin+tmax)/2 at sunset. From sunset to sunrise follows a linear trend\"\n",
    "\n",
    "    # Raise warning for time_of_day and day_length\n",
    "    warnings.warn('Double check that time_of_day and day_length are in seconds')\n",
    "\n",
    "    # calculate_temperature_diurnal_pattern -------------------------------------\n",
    "\n",
    "    if time_of_day < 0.0 or time_of_day >= day_length:\n",
    "        tfin = 86400.0 - day_length\n",
    "\n",
    "        if time_of_day < 0.0:\n",
    "            time_of_day = time_of_day + 86400.0 - day_length\n",
    "\n",
    "            # Return Temp\n",
    "            return 0.5 * (tmax_prev + tmin_prev) * (\n",
    "                1.0 - (time_of_day / tfin)\n",
    "            ) + tmin * (time_of_day / tfin)\n",
    "\n",
    "        else:\n",
    "            time_of_day = time_of_day - day_length\n",
    "\n",
    "            # Return Temp\n",
    "            return 0.5 * (tmax + tmin) * (\n",
    "                1.0 - (time_of_day / tfin)\n",
    "            ) + tmin_next * (time_of_day / tfin)\n",
    "\n",
    "    else:\n",
    "        ct = cos(1.5 * pi * time_of_day / day_length)\n",
    "\n",
    "        # Return Temp\n",
    "        return 0.5 * (tmin + tmax - (tmax - tmin) * ct)"
   ]
  },
  {
   "cell_type": "markdown",
   "metadata": {},
   "source": [
    "#### __Example: calculate the temperature diurnal pattern__"
   ]
  },
  {
   "cell_type": "code",
   "execution_count": null,
   "metadata": {},
   "outputs": [],
   "source": [
    "calculate_temperature_diurnal_pattern(\n",
    "    time_of_day=0,\n",
    "    day_length=0,\n",
    "    tmin=0.6,\n",
    "    tmax=8.2,\n",
    "    tmin_prev=2.6,\n",
    "    tmax_prev=11.3,\n",
    "    tmin_next=4.7,\n",
    ")"
   ]
  },
  {
   "cell_type": "code",
   "execution_count": null,
   "metadata": {},
   "outputs": [],
   "source": [
    "# | export\n",
    "\n",
    "\n",
    "def calculate_rh_diurnal_pattern(\n",
    "    temperature: float,  # Numeric value providing the target temperature (degrees C) at which we should compute target rh\n",
    "    rhmin: float,  # Numeric value indicating the minimum relative humidity (%) of the day\n",
    "    rhmax: float,  # Numeric value indicating the maximum relative humidity (%) of the day\n",
    "    tmin: float,  # Numeric value indicating the minimum daily temperature (degrees C)\n",
    "    tmax: float,  # Numeric value indicating the maximum daily temperature (degrees C)\n",
    ") -> float:  # Relative humidity at given temperature\n",
    "    \"Calculate diurnal pattern of relative humidity from temperature\"\n",
    "\n",
    "    # Assert parameters ---------------------------------------------------------\n",
    "    # rhmin\n",
    "    assert (\n",
    "        isinstance(rhmin, float) | isinstance(rhmin, int) and 100 >= rhmin >= 0\n",
    "    ), 'Minimum relative humidity (rhmin) must be a value between 0 and 100'\n",
    "\n",
    "    # rhmax\n",
    "    assert (\n",
    "        isinstance(rhmax, float) | isinstance(rhmax, int) and 100 >= rhmax >= 0\n",
    "    ), 'Maximum relative humidity (rhmax) must be a value between 0 and 100'\n",
    "\n",
    "    # calculate rh diurnal pattern ----------------------------------------------\n",
    "    return rhmax + ((temperature - tmin) / (tmax - tmin)) * (rhmin - rhmax)"
   ]
  },
  {
   "cell_type": "code",
   "execution_count": null,
   "metadata": {},
   "outputs": [
    {
     "data": {
      "text/plain": [
       "72.0"
      ]
     },
     "execution_count": null,
     "metadata": {},
     "output_type": "execute_result"
    }
   ],
   "source": [
    "calculate_rh_diurnal_pattern(17, 40, 80, 15, 25)"
   ]
  },
  {
   "cell_type": "code",
   "execution_count": null,
   "metadata": {},
   "outputs": [],
   "source": [
    "# | export\n",
    "\n",
    "\n",
    "def global_radiation_conversions_watts_ppfd(\n",
    "    rg_ppfd: float = None,  # Photosynthetic photon flux density (umol.m-2.s-1)\n",
    "    rg_watts: float = None,  # Global radiation (W/m2)\n",
    "    j_to_mol: float = 4.6,  # Conversion factor\n",
    "    frac_par: float = 0.5,  # Fraction of solar radiation that is photosynthetically active radiation (PAR)\n",
    "    selected_conversion: str = 'rg_watts_to_rg_ppfd_umol',  # String indicating to what units rg should be converted. Options 'rg_ppfd_umol_to_rg_watts' or 'rg_watts_to_rg_ppfd_umol'\n",
    ") -> float:\n",
    "    \"Convert Global Radiation (rg) in watts to Photosynthetic Photon Flux Density (ppfd) in umol and viceversa\"\n",
    "\n",
    "    # Assert parameters ---------------------------------------------------------\n",
    "\n",
    "    # Make sure that selected_conversion only has three options\n",
    "    assert selected_conversion in [\n",
    "        'rg_ppfd_umol_to_rg_watts',\n",
    "        'rg_watts_to_rg_ppfd_umol',\n",
    "    ], (\n",
    "        f'{selected_conversion} not a valid option for selected_conversion, select \"rg_ppfd_umol_to_rg_watts\" or \"rg_watts_to_rg_ppfd_umol\"'\n",
    "    )\n",
    "\n",
    "    # Make sure the necessary parameters for a given conversion are provided\n",
    "    if selected_conversion == 'rg_ppfd_umol_to_rg_watts':\n",
    "        assert (\n",
    "            isinstance(rg_ppfd, float)\n",
    "            | isinstance(rg_ppfd, int)\n",
    "            | isinstance(rg_ppfd, np.ndarray)\n",
    "        ), 'rg_ppfd missing. Parameter must be a float or integer value'\n",
    "\n",
    "    elif selected_conversion == 'rg_watts_to_rg_ppfd_umol':\n",
    "        assert (\n",
    "            isinstance(rg_watts, float)\n",
    "            | isinstance(rg_watts, int)\n",
    "            | isinstance(rg_watts, np.ndarray)\n",
    "        ), 'rg_watts missing. Parameter must be a float or integer value'\n",
    "\n",
    "    # Warn in case j_to_mol or frac_par are not provided\n",
    "    if j_to_mol == 4.6:\n",
    "        warnings.warn('Using j_to_mol default value of 4.6')\n",
    "\n",
    "    if frac_par == 0.5:\n",
    "        warnings.warn('Using frac_par default value of 0.5')\n",
    "\n",
    "    # Conversions ---------------------------------------------------------------\n",
    "\n",
    "    # Calculate rg from ppfd (rg)(W/m2)\n",
    "    if selected_conversion == 'rg_ppfd_umol_to_rg_watts':\n",
    "        print('Global radiation (rg) converted from ppfd to watts')\n",
    "        return rg_ppfd / frac_par / j_to_mol\n",
    "\n",
    "    # Calculate ppfd (umol.m-2.s-1) from rg\n",
    "    elif selected_conversion == 'rg_watts_to_rg_ppfd_umol':\n",
    "        print('Global radiation (rg) converted from watts to ppfd')\n",
    "        return rg_watts * frac_par * j_to_mol\n",
    "\n",
    "    else:\n",
    "        raise ValueError('Global Radiation conversion failed')"
   ]
  },
  {
   "cell_type": "markdown",
   "metadata": {},
   "source": [
    "#### __Example: Calculate Global radiation in Watts and in PPFD__"
   ]
  },
  {
   "cell_type": "code",
   "execution_count": null,
   "metadata": {},
   "outputs": [
    {
     "name": "stdout",
     "output_type": "stream",
     "text": [
      "Global radiation (rg) converted from watts to ppfd\n"
     ]
    },
    {
     "name": "stderr",
     "output_type": "stream",
     "text": [
      "/tmp/ipykernel_613/1345094339.py:41: UserWarning: Using j_to_mol default value of 4.6\n",
      "  warnings.warn('Using j_to_mol default value of 4.6')\n",
      "/tmp/ipykernel_613/1345094339.py:44: UserWarning: Using frac_par default value of 0.5\n",
      "  warnings.warn('Using frac_par default value of 0.5')\n"
     ]
    },
    {
     "data": {
      "text/plain": [
       "16.099999999999998"
      ]
     },
     "execution_count": null,
     "metadata": {},
     "output_type": "execute_result"
    }
   ],
   "source": [
    "global_radiation_conversions_watts_ppfd(\n",
    "    rg_watts=7,\n",
    "    j_to_mol=4.6,\n",
    "    frac_par=0.5,\n",
    "    selected_conversion='rg_watts_to_rg_ppfd_umol',\n",
    ")"
   ]
  },
  {
   "cell_type": "code",
   "execution_count": null,
   "metadata": {},
   "outputs": [
    {
     "name": "stdout",
     "output_type": "stream",
     "text": [
      "Global radiation (rg) converted from ppfd to watts\n"
     ]
    },
    {
     "name": "stderr",
     "output_type": "stream",
     "text": [
      "/tmp/ipykernel_10557/2430486604.py:40: UserWarning: Using j_to_mol default value of 4.6\n",
      "  warnings.warn('Using j_to_mol default value of 4.6')\n",
      "/tmp/ipykernel_10557/2430486604.py:43: UserWarning: Using frac_par default value of 0.5\n",
      "  warnings.warn('Using frac_par default value of 0.5')\n"
     ]
    },
    {
     "data": {
      "text/plain": [
       "3.91304347826087"
      ]
     },
     "execution_count": null,
     "metadata": {},
     "output_type": "execute_result"
    }
   ],
   "source": [
    "global_radiation_conversions_watts_ppfd(\n",
    "    rg_ppfd=9,\n",
    "    j_to_mol=4.6,\n",
    "    frac_par=0.5,\n",
    "    selected_conversion='rg_ppfd_umol_to_rg_watts',\n",
    ")"
   ]
  },
  {
   "cell_type": "code",
   "execution_count": null,
   "metadata": {},
   "outputs": [
    {
     "name": "stdout",
     "output_type": "stream",
     "text": [
      "Global radiation (rg) converted from watts to ppfd\n"
     ]
    },
    {
     "name": "stderr",
     "output_type": "stream",
     "text": [
      "/tmp/ipykernel_10557/2430486604.py:40: UserWarning: Using j_to_mol default value of 4.6\n",
      "  warnings.warn('Using j_to_mol default value of 4.6')\n",
      "/tmp/ipykernel_10557/2430486604.py:43: UserWarning: Using frac_par default value of 0.5\n",
      "  warnings.warn('Using frac_par default value of 0.5')\n"
     ]
    },
    {
     "data": {
      "text/plain": [
       "11.5"
      ]
     },
     "execution_count": null,
     "metadata": {},
     "output_type": "execute_result"
    }
   ],
   "source": [
    "global_radiation_conversions_watts_ppfd(\n",
    "    rg_watts=5,\n",
    "    j_to_mol=4.6,\n",
    "    frac_par=0.5,\n",
    "    selected_conversion='rg_watts_to_rg_ppfd_umol',\n",
    ")"
   ]
  },
  {
   "cell_type": "code",
   "execution_count": null,
   "metadata": {},
   "outputs": [],
   "source": [
    "# | export\n",
    "\n",
    "\n",
    "def global_radiation_conversions_watts_mjules(\n",
    "    rg_watts: float = None,  # Instantaneous radiation (watts)\n",
    "    rg_mj: float = None,  # Instantaneous radiation (in Mega Jules?)\n",
    "    nhours: float = None,  # Number of hours of sun in the day\n",
    "    selected_conversion: str = 'rg_watts_to_rg_mj',  # String indicating to what units rg should be converted. Options are 'rg_watts_to_rg_mj', 'rg_mj_to_rg_watts', 'rg_mj_to_rg_watts_hour', 'rg_watts_to_rg_mjday' or 'rg_mjday_to_rg_watts'\n",
    ") -> float:\n",
    "    \"Convert instantaneous radiation in watts to daily cumulative radiation in MJ (MJ.day-1) and viceversa\"\n",
    "\n",
    "    # Assert parameters ---------------------------------------------------------\n",
    "\n",
    "    # Make sure that selected_conversion only has three options\n",
    "    assert selected_conversion in [\n",
    "        'rg_watts_to_rg_mj',\n",
    "        'rg_mj_to_rg_watts',\n",
    "        'rg_mj_to_rg_watts_hour',\n",
    "        'rg_watts_to_rg_mjday',\n",
    "        'rg_mjday_to_rg_watts',\n",
    "    ], (\n",
    "        f'{selected_conversion} not a valid option for selected_conversion, select \"rg_watts_to_rg_mj\",\"rg_mj_to_rg_watts\", \"rg_mj_to_rg_watts_hour\", \"rg_watts_to_rg_mjday\" or \"rg_mjday_to_rg_watts\"'\n",
    "    )\n",
    "\n",
    "    # Make sure the necessary parameters for a given conversion are provided\n",
    "    if (\n",
    "        selected_conversion == 'rg_watts_to_rg_mj'\n",
    "        or selected_conversion == 'rg_watts_to_rg_mjday'\n",
    "    ):\n",
    "        assert (\n",
    "            isinstance(rg_watts, float)\n",
    "            | isinstance(rg_watts, int)\n",
    "            | isinstance(rg_watts, np.ndarray)\n",
    "        ), 'rg_watts missing. Parameter must be a float or integer value'\n",
    "\n",
    "    elif (\n",
    "        selected_conversion == 'rg_mj_to_rg_watts'\n",
    "        or selected_conversion == 'rg_mjday_to_rg_watts'\n",
    "    ):\n",
    "        assert (\n",
    "            isinstance(rg_mj, float)\n",
    "            | isinstance(rg_mj, int)\n",
    "            | isinstance(rg_mj, np.ndarray)\n",
    "        ), 'rg_mj missing. Parameter must be a float or integer value'\n",
    "\n",
    "    elif selected_conversion == 'rg_mj_to_rg_watts_hour':\n",
    "        assert (\n",
    "            isinstance(rg_mj, float)\n",
    "            | isinstance(rg_mj, int)\n",
    "            | isinstance(rg_mj, np.ndarray)\n",
    "        ), 'rg_mj missing. Parameter must be a float or integer value'\n",
    "\n",
    "        assert (\n",
    "            isinstance(nhours, float)\n",
    "            | isinstance(nhours, int)\n",
    "            | isinstance(nhours, np.ndarray)\n",
    "        ), 'nhours missing. Parameter must be a float or integer value'\n",
    "\n",
    "    # Conversions ---------------------------------------------------------------\n",
    "    if selected_conversion == 'rg_watts_to_rg_mj':\n",
    "        print('Global radiation (rg) converted from watts to Mega Jules')\n",
    "\n",
    "        # Conversion from watts to Mega Jules\n",
    "        return rg_watts * 0.0864\n",
    "\n",
    "    elif selected_conversion == 'rg_mj_to_rg_watts':\n",
    "        print('Global radiation (rg) converted from Mega Jules to Watts')\n",
    "\n",
    "        # Conversion from Mega Jules to watts\n",
    "        return rg_mj * (1 / 0.0864)\n",
    "\n",
    "    elif selected_conversion == 'rg_mj_to_rg_watts_hour':\n",
    "        print(\n",
    "            'Global radiation (rg) converted from Mega Jules to Watts per hour'\n",
    "        )\n",
    "\n",
    "        # Conversion from Mega Jules to watts/hour\n",
    "        return rg_mj * (1e6 / (nhours * 3600))\n",
    "\n",
    "    elif selected_conversion == 'rg_watts_to_rg_mjday':\n",
    "        print('Global radiation (rg) converted from watts to MegaJules per day')\n",
    "\n",
    "        # Conversion from watts to MegaJules day\n",
    "        return rg_watts * 3600 * 24 / 1000000\n",
    "\n",
    "    elif selected_conversion == 'rg_mjday_to_rg_watts':\n",
    "        print('Global radiation (rg) converted from watts to MegaJules per day')\n",
    "\n",
    "        # Conversion from MegaJules day to watts\n",
    "        rg_mj / (3600 * 24 / 1000000)\n",
    "\n",
    "    else:\n",
    "        raise ValueError('Global radiation (rg) units conversion failed')"
   ]
  },
  {
   "cell_type": "markdown",
   "metadata": {},
   "source": [
    "#### __Example: Calculate Global radiation in Watts and in Mega Jules__"
   ]
  },
  {
   "cell_type": "code",
   "execution_count": null,
   "metadata": {},
   "outputs": [
    {
     "name": "stdout",
     "output_type": "stream",
     "text": [
      "Global radiation (rg) converted from watts to MegaJules per day\n"
     ]
    },
    {
     "data": {
      "text/plain": [
       "25.92"
      ]
     },
     "execution_count": null,
     "metadata": {},
     "output_type": "execute_result"
    }
   ],
   "source": [
    "global_radiation_conversions_watts_mjules(\n",
    "    rg_watts=300, selected_conversion='rg_watts_to_rg_mjday'\n",
    ")"
   ]
  },
  {
   "cell_type": "code",
   "execution_count": null,
   "metadata": {},
   "outputs": [
    {
     "name": "stdout",
     "output_type": "stream",
     "text": [
      "Global radiation (rg) converted from Mega Jules to Watts\n"
     ]
    },
    {
     "data": {
      "text/plain": [
       "300.0"
      ]
     },
     "execution_count": null,
     "metadata": {},
     "output_type": "execute_result"
    }
   ],
   "source": [
    "global_radiation_conversions_watts_mjules(\n",
    "    rg_mj=25.92, selected_conversion='rg_mj_to_rg_watts'\n",
    ")"
   ]
  },
  {
   "cell_type": "code",
   "execution_count": null,
   "metadata": {},
   "outputs": [
    {
     "name": "stdout",
     "output_type": "stream",
     "text": [
      "Global radiation (rg) converted from Mega Jules to Watts per hour\n"
     ]
    },
    {
     "data": {
      "text/plain": [
       "array([277.77777778, 555.55555556])"
      ]
     },
     "execution_count": null,
     "metadata": {},
     "output_type": "execute_result"
    }
   ],
   "source": [
    "global_radiation_conversions_watts_mjules(\n",
    "    rg_mj=np.array([1, 2]),\n",
    "    nhours=1,\n",
    "    selected_conversion='rg_mj_to_rg_watts_hour',\n",
    ")"
   ]
  },
  {
   "cell_type": "code",
   "execution_count": null,
   "metadata": {},
   "outputs": [
    {
     "name": "stdout",
     "output_type": "stream",
     "text": [
      "Global radiation (rg) converted from Mega Jules to Watts per hour\n"
     ]
    },
    {
     "data": {
      "text/plain": [
       "277.77777777777777"
      ]
     },
     "execution_count": null,
     "metadata": {},
     "output_type": "execute_result"
    }
   ],
   "source": [
    "global_radiation_conversions_watts_mjules(\n",
    "    rg_mj=10, nhours=10, selected_conversion='rg_mj_to_rg_watts_hour'\n",
    ")"
   ]
  },
  {
   "cell_type": "code",
   "execution_count": null,
   "metadata": {},
   "outputs": [],
   "source": [
    "# | export\n",
    "\n",
    "\n",
    "def declination(\n",
    "    day_of_year: int,  # julian day (day of the year)\n",
    "    day_of_spring: int = 80,  # Julian day representing the first day of spring\n",
    ") -> float:  # Earth declination at day_of_year\n",
    "    \"Calculate declination of sun (radians ? ) for a given julian day (DOY)\"\n",
    "\n",
    "    # Hervé's formula for solar declination\n",
    "\n",
    "    # Sin(23.5*pi/180), 23.5 = Earth declination\n",
    "\n",
    "    # Assert parameters ---------------------------------------------------------\n",
    "\n",
    "    # Day of year\n",
    "    # Using np.testing instead of assert because parameters can be np.arrays OR\n",
    "    # single values (i.e. 1). assert only works when params are always one type\n",
    "    # Solution from:\n",
    "    # https://stackoverflow.com/questions/45987962/why-arent-there-numpy-testing-assert-array-greater-assert-array-less-equal-as\n",
    "\n",
    "    np.testing.assert_array_compare(\n",
    "        operator.__gt__,\n",
    "        np.array(day_of_year),\n",
    "        0,\n",
    "        err_msg='\\nday_of_year must be must be a integer value between 1-366\\n',\n",
    "    )\n",
    "\n",
    "    np.testing.assert_array_less(\n",
    "        np.array(day_of_year),\n",
    "        367,\n",
    "        err_msg='\\nError: day_of_year must be must be a integer value between 1-366\\n',\n",
    "    )\n",
    "\n",
    "    # date_of_spring\n",
    "    assert isinstance(day_of_spring, int), (\n",
    "        'day_of_spring must be must be a integer value i.e. 80, 90, 1'\n",
    "    )\n",
    "\n",
    "    # Constans ------------------------------------------------------------------\n",
    "\n",
    "    c1 = 0.398749068925246\n",
    "\n",
    "    c2 = 2 * 3.1416 / 365\n",
    "\n",
    "    # date of spring\n",
    "    day_of_spring_c3 = day_of_spring\n",
    "    warnings.warn(\n",
    "        f'date of spring set to {day_of_spring_c3}. This might change for Australia'\n",
    "    )\n",
    "\n",
    "    x = c1 * sin((day_of_year - day_of_spring_c3) * c2)\n",
    "\n",
    "    # Return declination --------------------------------------------------------\n",
    "    return arctan(x / ((1 - x * x) ** 0.5))"
   ]
  },
  {
   "cell_type": "markdown",
   "metadata": {},
   "source": [
    "#### __Example: Calculate declination__"
   ]
  },
  {
   "cell_type": "code",
   "execution_count": null,
   "metadata": {},
   "outputs": [
    {
     "name": "stderr",
     "output_type": "stream",
     "text": [
      "/tmp/ipykernel_613/1608233118.py:48: UserWarning: date of spring set to 80. This might change for Australia\n",
      "  warnings.warn(\n"
     ]
    },
    {
     "data": {
      "text/plain": [
       "0.06835636102670284"
      ]
     },
     "execution_count": null,
     "metadata": {},
     "output_type": "execute_result"
    }
   ],
   "source": [
    "declination(day_of_year=90, day_of_spring=80)"
   ]
  },
  {
   "cell_type": "code",
   "execution_count": null,
   "metadata": {},
   "outputs": [
    {
     "name": "stderr",
     "output_type": "stream",
     "text": [
      "/tmp/ipykernel_613/1608233118.py:48: UserWarning: date of spring set to 80. This might change for Australia\n",
      "  warnings.warn(\n"
     ]
    },
    {
     "data": {
      "text/plain": [
       "array([0.1349969 , 0.35853539])"
      ]
     },
     "execution_count": null,
     "metadata": {},
     "output_type": "execute_result"
    }
   ],
   "source": [
    "declination(day_of_year=np.array([100, 200]), day_of_spring=80)"
   ]
  },
  {
   "cell_type": "code",
   "execution_count": null,
   "metadata": {},
   "outputs": [],
   "source": [
    "# | export\n",
    "\n",
    "\n",
    "def potential_par(\n",
    "    time_of_day_in_hours: float,  # Array containing the time of the day (in hours) for which potential par should be calculated\n",
    "    latitude: float,  # Numeric value specifying the geographic latitude (in decimal degrees) of the location of interest\n",
    "    day_of_year: int,  # Julian day (day of the year)\n",
    ") -> np.array:  # Potential Photosynthetic Active Radiation (PAR) for each time_of_day at given latitude and given day_of_year\n",
    "    \"Determine potential for a given place and date /used to determine cloud cover return potential par in W.m2\"\n",
    "\n",
    "    warnings.warn('Make sure time of day is hours in potential_par function')\n",
    "\n",
    "    # Assert parameters ---------------------------------------------------------\n",
    "\n",
    "    # time_of_day\n",
    "    np.testing.assert_array_compare(\n",
    "        operator.__ge__,\n",
    "        np.array(time_of_day_in_hours),\n",
    "        0,\n",
    "        err_msg='\\ntime_of_day must be must equal or greater than 0\\n',\n",
    "    )\n",
    "\n",
    "    np.testing.assert_array_less(\n",
    "        np.array(time_of_day_in_hours),\n",
    "        25,\n",
    "        err_msg='\\nError: time_of_day must be must be equal or lower than 24\\n',\n",
    "    )\n",
    "\n",
    "    # Latitude\n",
    "    assert (\n",
    "        isinstance(latitude, float) | isinstance(latitude, int)\n",
    "        and 95 >= latitude >= -95\n",
    "    ), (\n",
    "        'Provide latitude as coordinates points bewteen -90 and 90 i.e. latitude = 41.40338'\n",
    "    )\n",
    "\n",
    "    # Day of year\n",
    "    # Using np.testing instead of assert because parameters can be np.arrays OR\n",
    "    # single values (i.e. 1). assert only works when params are always one type\n",
    "    # Solution from:\n",
    "    # https://stackoverflow.com/questions/45987962/why-arent-there-numpy-testing-assert-array-greater-assert-array-less-equal-as\n",
    "\n",
    "    np.testing.assert_array_compare(\n",
    "        operator.__gt__,\n",
    "        np.array(day_of_year),\n",
    "        0,\n",
    "        err_msg='\\nday_of_year must be must be a integer value between 1-366\\n',\n",
    "    )\n",
    "\n",
    "    np.testing.assert_array_less(\n",
    "        np.array(day_of_year),\n",
    "        367,\n",
    "        err_msg='\\nError: day_of_year must be must be a integer value between 1-366\\n',\n",
    "    )\n",
    "\n",
    "    # Calculate declination -----------------------------------------------------\n",
    "    decl = declination(day_of_year=day_of_year, day_of_spring=80)\n",
    "\n",
    "    # Define constants ----------------------------------------------------------\n",
    "    diffuse_fraction = 0.1\n",
    "    solar_constant = 2084\n",
    "    attenuation_coef = -0.174353387144778\n",
    "\n",
    "    pn = -cos(latitude * 3.1416 / 180)\n",
    "\n",
    "    pz = sin(latitude * 3.1416 / 180)\n",
    "\n",
    "    h_rad = (time_of_day_in_hours - 6) * 3.1416 / 12\n",
    "\n",
    "    se = cos(h_rad) * cos(decl)\n",
    "    sn = -pz * sin(h_rad) * cos(decl) - pn * sin(decl)\n",
    "    sz = -pn * sin(h_rad) * cos(decl) + pz * sin(decl)\n",
    "\n",
    "    alt = arctan(sz / ((se * se + sn * sn) ** 0.5))\n",
    "    azi = 3.1416 + arctan(se / sn)\n",
    "\n",
    "    # Calculate potential par ---------------------------------------------------\n",
    "\n",
    "    # Step implemented in case azi is a single value i.e. azi = 39\n",
    "    if isinstance(azi, float):\n",
    "        # Transform float into array\n",
    "        azi = np.array([azi])\n",
    "\n",
    "    azi[sn > 0] = azi[sn > 0] + 3.1416\n",
    "\n",
    "    pfd = solar_constant * exp(attenuation_coef / sin(alt))\n",
    "\n",
    "    # Step implemented in case pfd is a single value i.e. pdf = 41\n",
    "    if isinstance(pfd, float):\n",
    "        # Transform float into array\n",
    "        pfd = np.array([pfd])\n",
    "\n",
    "    pfd[alt < 0] = 0\n",
    "\n",
    "    dpfd = diffuse_fraction * pfd\n",
    "    dpfd[alt < 0] = 0\n",
    "\n",
    "    return dpfd + pfd * sin(alt)"
   ]
  },
  {
   "cell_type": "markdown",
   "metadata": {},
   "source": [
    "#### __Example: Calculate the Potential PAR__"
   ]
  },
  {
   "cell_type": "code",
   "execution_count": null,
   "metadata": {},
   "outputs": [],
   "source": [
    "potential_par(time_of_day_in_hours=19, latitude=45.1, day_of_year=100)"
   ]
  },
  {
   "cell_type": "code",
   "execution_count": null,
   "metadata": {},
   "outputs": [],
   "source": [
    "potential_par(\n",
    "    time_of_day_in_hours=np.arange(0, 24), latitude=45.1, day_of_year=100\n",
    ")"
   ]
  }
 ],
 "metadata": {
  "kernelspec": {
   "display_name": "python3",
   "language": "python",
   "name": "python3"
  }
 },
 "nbformat": 4,
 "nbformat_minor": 4
}
