{
 "cells": [
  {
   "cell_type": "raw",
   "metadata": {},
   "source": [
    "---\n",
    "description: 'AUTHORS: Erick Calderon-Morales'\n",
    "output-file: pysureau_utils.html\n",
    "title: pysureau utils functions\n",
    "---\n",
    "\n"
   ]
  },
  {
   "cell_type": "code",
   "execution_count": null,
   "metadata": {},
   "outputs": [],
   "source": [
    "# | default_exp pysureau_utils"
   ]
  },
  {
   "cell_type": "code",
   "execution_count": 1,
   "metadata": {},
   "outputs": [],
   "source": [
    "# | hide\n",
    "from nbdev.showdoc import *\n",
    "from fastcore.test import *"
   ]
  },
  {
   "cell_type": "code",
   "execution_count": null,
   "metadata": {},
   "outputs": [],
   "source": [
    "# | export\n",
    "import os\n",
    "import csv\n",
    "import shortuuid\n",
    "from typing import Dict\n",
    "from typing import Union\n",
    "from pathlib import Path\n",
    "from pandera.typing import DataFrame\n",
    "#from pysureau.soil_utils import create_empty_soil_parameter_files"
   ]
  },
  {
   "cell_type": "code",
   "execution_count": 8,
   "metadata": {},
   "outputs": [],
   "source": [
    "# | export\n",
    "def pysureau_init(\n",
    "    path: Union[\n",
    "        str, None\n",
    "    ] = None,  # Path where the pysureau folders and files will be stored\n",
    "):\n",
    "    \"\"\"\n",
    "    Function for creating the project's main folder structure alongside with the necessary parameter files\n",
    "    \"\"\"\n",
    "\n",
    "    # Type checking -------------------------------------------------------------\n",
    "    # Only allow str or None\n",
    "    if path is not None and not isinstance(path, str):\n",
    "        raise TypeError(\n",
    "            f'path must be a string or None, not {type(path).__name__}'\n",
    "        )\n",
    "\n",
    "    # Convert string to Path if provided ----------------------------------------\n",
    "    if path is not None:\n",
    "        path = Path(path)\n",
    "\n",
    "    # Create folder structure ---------------------------------------------------\n",
    "\n",
    "    # Get random number to name main folders\n",
    "    random_uuid = shortuuid.uuid()\n",
    "\n",
    "    if path is None:\n",
    "        # Define path with random uuid at the home directory\n",
    "        project_path = os.path.join(\n",
    "            Path.home(), f'pysureau_project_{random_uuid}'\n",
    "        )\n",
    "\n",
    "        # Define paths to subderectories\n",
    "        path_to_params_folder = os.path.join(project_path, '1_parameter_files')\n",
    "        path_to_model_outputs_folder = os.path.join(\n",
    "            project_path, '2_model_outputs'\n",
    "        )\n",
    "        path_to_logfiles_folder = os.path.join(project_path, '3_log_files')\n",
    "\n",
    "        # Create main and subdirectories with it is corresponding files\n",
    "        os.mkdir(project_path)\n",
    "        os.mkdir(path_to_params_folder)\n",
    "\n",
    "        # USE CREATE FUNCTIONS HERE\n",
    "        # create_soil_params()\n",
    "        # create_veg_params()\n",
    "        # create_climate_data()\n",
    "\n",
    "        os.mkdir(path_to_model_outputs_folder)\n",
    "        os.mkdir(path_to_logfiles_folder)\n",
    "\n",
    "        print(f'pysureau project created at {project_path}')\n",
    "\n",
    "    elif os.path.exists(path):\n",
    "        # Define path with random uuid at the user's chosen path\n",
    "        project_path = os.path.join(path, f'pysureau_project_{random_uuid}')\n",
    "\n",
    "        # Define paths to subderectories\n",
    "        path_to_params_folder = os.path.join(project_path, '1_parameter_files')\n",
    "        path_to_model_outputs_folder = os.path.join(\n",
    "            project_path, '2_model_outputs'\n",
    "        )\n",
    "        path_to_logfiles_folder = os.path.join(project_path, '3_log_files')\n",
    "\n",
    "        # Create main and subdirectories with it is corresponding files\n",
    "        os.mkdir(project_path)\n",
    "\n",
    "        os.mkdir(path_to_params_folder)\n",
    "\n",
    "        # Create empty parameter files for soil \n",
    "        create_empty_soil_parameter_files(path = path_to_params_folder)\n",
    "        \n",
    "        # Create empty parameter files for climate \n",
    "        \n",
    "        # Create empty parameter files for veg\n",
    "        \n",
    "        os.mkdir(path_to_model_outputs_folder)\n",
    "        os.mkdir(path_to_logfiles_folder)\n",
    "\n",
    "        print(f'pysureau project created at {project_path}')\n",
    "\n",
    "    else:\n",
    "        raise FileNotFoundError(f'Path not found at: {path}')"
   ]
  },
  {
   "cell_type": "code",
   "execution_count": 9,
   "metadata": {},
   "outputs": [],
   "source": [
    "# | export\n",
    "def dict_to_csv(\n",
    "    dictionary: Dict,  # Dictionary\n",
    "    filename: str,  # Filename\n",
    "    path: Path,  # Path where the csv file will be stored\n",
    ") -> DataFrame:\n",
    "    \"\"\"\n",
    "    Function for converting a dictionary that contains parameters into a CSV file\n",
    "    \"\"\"\n",
    "\n",
    "    # Assert parameters ---------------------------------------------------------\n",
    "    assert isinstance(dictionary, dict), (\n",
    "        f'dictionay must by of class dict not {type(dictionary).__name__}'\n",
    "    )\n",
    "\n",
    "    assert isinstance(filename, str), (\n",
    "        f'filename must by of class str not {type(filename).__name__}'\n",
    "    )\n",
    "\n",
    "    if path is not None and not isinstance(path, str):\n",
    "        raise TypeError(\n",
    "            f'path must be a string or None, not {type(path).__name__}'\n",
    "        )\n",
    "\n",
    "    # Convert string to Path if provided ----------------------------------------\n",
    "    if os.path.exists(path):\n",
    "        # Conver input path\n",
    "        path = Path(path)\n",
    "\n",
    "        filename = os.path.join(path, filename)\n",
    "\n",
    "    else:\n",
    "        raise FileNotFoundError(f'Path {path} not found')\n",
    "\n",
    "    # Convert Dict into csv -----------------------------------------------------\n",
    "    with open(filename, 'w', newline='') as csvfile:\n",
    "        writer = csv.writer(csvfile)\n",
    "\n",
    "        # Write header\n",
    "        writer.writerow(['parameter_name', 'parameter_value'])\n",
    "\n",
    "        # Write data rows\n",
    "        for each_param_name, each_param_value in dictionary.items():\n",
    "            writer.writerow([each_param_name, each_param_value])\n",
    "\n",
    "    print(f'CSV file saved as {filename}')"
   ]
  },
  {
   "cell_type": "code",
   "execution_count": null,
   "metadata": {},
   "outputs": [
    {
     "ename": "TypeError",
     "evalue": "path must be a string, not str",
     "output_type": "error",
     "traceback": [
      "\u001b[31m---------------------------------------------------------------------------\u001b[39m",
      "\u001b[31mTypeError\u001b[39m                                 Traceback (most recent call last)",
      "\u001b[36mCell\u001b[39m\u001b[36m \u001b[39m\u001b[32mIn[12]\u001b[39m\u001b[32m, line 1\u001b[39m\n\u001b[32m----> \u001b[39m\u001b[32m1\u001b[39m \u001b[43mpysureau_init\u001b[49m\u001b[43m(\u001b[49m\u001b[43mpath\u001b[49m\u001b[43m \u001b[49m\u001b[43m=\u001b[49m\u001b[43m \u001b[49m\u001b[33;43m'\u001b[39;49m\u001b[33;43m/tmp\u001b[39;49m\u001b[33;43m'\u001b[39;49m\u001b[43m)\u001b[49m\n",
      "\u001b[36mCell\u001b[39m\u001b[36m \u001b[39m\u001b[32mIn[8]\u001b[39m\u001b[32m, line 71\u001b[39m, in \u001b[36mpysureau_init\u001b[39m\u001b[34m(path)\u001b[39m\n\u001b[32m     68\u001b[39m os.mkdir(path_to_params_folder)\n\u001b[32m     70\u001b[39m \u001b[38;5;66;03m# Create empty parameter files for soil \u001b[39;00m\n\u001b[32m---> \u001b[39m\u001b[32m71\u001b[39m \u001b[43mcreate_empty_soil_parameter_files\u001b[49m\u001b[43m(\u001b[49m\u001b[43mpath\u001b[49m\u001b[43m \u001b[49m\u001b[43m=\u001b[49m\u001b[43m \u001b[49m\u001b[43mpath_to_params_folder\u001b[49m\u001b[43m)\u001b[49m\n\u001b[32m     73\u001b[39m \u001b[38;5;66;03m# Create empty parameter files for climate \u001b[39;00m\n\u001b[32m     74\u001b[39m \n\u001b[32m     75\u001b[39m \u001b[38;5;66;03m# Create empty parameter files for veg\u001b[39;00m\n\u001b[32m     77\u001b[39m os.mkdir(path_to_model_outputs_folder)\n",
      "\u001b[36mFile \u001b[39m\u001b[32m~/Documents/projects/modelling/sureau/pysureau/pysureau/soil_utils.py:153\u001b[39m, in \u001b[36mcreate_empty_soil_parameter_files\u001b[39m\u001b[34m(path)\u001b[39m\n\u001b[32m    150\u001b[39m \u001b[33m\"\u001b[39m\u001b[33mFunction for creating the CSV templates necessary for the soil parameters\u001b[39m\u001b[33m\"\u001b[39m\n\u001b[32m    152\u001b[39m \u001b[38;5;66;03m# Assert parameters ---------------------------------------------------------\u001b[39;00m\n\u001b[32m--> \u001b[39m\u001b[32m153\u001b[39m \u001b[38;5;28;01mif\u001b[39;00m path \u001b[38;5;129;01mis\u001b[39;00m \u001b[38;5;129;01mnot\u001b[39;00m \u001b[38;5;28misinstance\u001b[39m(path, \u001b[38;5;28mstr\u001b[39m):\n\u001b[32m    154\u001b[39m     \u001b[38;5;28;01mraise\u001b[39;00m \u001b[38;5;167;01mTypeError\u001b[39;00m(\u001b[33mf\u001b[39m\u001b[33m'\u001b[39m\u001b[33mpath must be a string, not \u001b[39m\u001b[38;5;132;01m{\u001b[39;00m\u001b[38;5;28mtype\u001b[39m(path).\u001b[34m__name__\u001b[39m\u001b[38;5;132;01m}\u001b[39;00m\u001b[33m'\u001b[39m)\n\u001b[32m    156\u001b[39m \u001b[38;5;66;03m# Convert string to Path if provided ----------------------------------------\u001b[39;00m\n",
      "\u001b[31mTypeError\u001b[39m: path must be a string, not str"
     ]
    }
   ],
   "source": [
    "#pysureau_init(path = '/tmp')"
   ]
  },
  {
   "cell_type": "code",
   "execution_count": null,
   "metadata": {},
   "outputs": [],
   "source": []
  }
 ],
 "metadata": {
  "kernelspec": {
   "display_name": "default",
   "language": "python",
   "name": "python3"
  },
  "language_info": {
   "codemirror_mode": {
    "name": "ipython",
    "version": 3
   },
   "file_extension": ".py",
   "mimetype": "text/x-python",
   "name": "python",
   "nbconvert_exporter": "python",
   "pygments_lexer": "ipython3",
   "version": "3.13.5"
  }
 },
 "nbformat": 4,
 "nbformat_minor": 4
}
