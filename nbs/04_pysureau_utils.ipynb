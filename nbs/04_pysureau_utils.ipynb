{
 "cells": [
  {
   "cell_type": "raw",
   "metadata": {},
   "source": [
    "---\n",
    "description: 'AUTHORS: Erick Calderon-Morales'\n",
    "output-file: pysureau_utils.html\n",
    "title: pysureau utils functions\n",
    "---\n",
    "\n"
   ]
  },
  {
   "cell_type": "code",
   "execution_count": null,
   "metadata": {},
   "outputs": [],
   "source": [
    "# | default_exp pysureau_utils"
   ]
  },
  {
   "cell_type": "code",
   "execution_count": 1,
   "metadata": {},
   "outputs": [],
   "source": [
    "# | hide\n",
    "from nbdev.showdoc import *\n",
    "from fastcore.test import *"
   ]
  },
  {
   "cell_type": "code",
   "execution_count": 3,
   "metadata": {},
   "outputs": [],
   "source": [
    "# | export\n",
    "import os\n",
    "from pathlib import Path\n",
    "from typing import Union\n",
    "import shortuuid"
   ]
  },
  {
   "cell_type": "code",
   "execution_count": null,
   "metadata": {},
   "outputs": [],
   "source": [
    "# | export\n",
    "def pysureau_init(path: Union[str, None] = None # Path where the pysureau folders and files will be stored \n",
    "                  ):\n",
    "    \n",
    "    # Type checking -------------------------------------------------------------\n",
    "    # Only allow str or None\n",
    "    if path is not None and not isinstance(path, str):\n",
    "        raise TypeError(f\"path must be a string or None, not {type(path).__name__}\")\n",
    "    \n",
    "    # Convert string to Path if provided ----------------------------------------\n",
    "    if path is not None:\n",
    "        path = Path(path)\n",
    "    \n",
    "    # Create folder structure ---------------------------------------------------\n",
    "    \n",
    "    # Get random number to name main folders\n",
    "    random_uuid = shortuuid.uuid()\n",
    "    \n",
    "    if path is None:\n",
    "\n",
    "        # Define path with random uuid at the home directory\n",
    "        project_path = os.path.join(Path.home(), f'pysureau_project_{random_uuid}')\n",
    "\t    \n",
    "        # Define paths to subderectories\n",
    "        path_to_params_folder = os.path.join(project_path, '1_parameter_files')\n",
    "        path_to_model_outputs_folder = os.path.join(project_path, '2_model_outputs')\n",
    "        path_to_logfiles_folder = os.path.join(project_path, '3_log_files')\n",
    "        \n",
    "        # Create main and subdirectories with it is corresponding files\n",
    "        os.mkdir(project_path)\n",
    "        os.mkdir(path_to_params_folder)\n",
    "        \n",
    "        # USE CREATE FUNCTIONS HERE\n",
    "        # create_soil_params()\n",
    "        # create_veg_params()\n",
    "        # create_climate_data()\n",
    "        \n",
    "        os.mkdir(path_to_model_outputs_folder)\n",
    "        os.mkdir(path_to_logfiles_folder)\n",
    "        \n",
    "        print(f'pysureau project created at {project_path}')\n",
    "        \n",
    "    elif os.path.exists(path):\n",
    "        \n",
    "        # Define path with random uuid at the user's chosen path\n",
    "        project_path = os.path.join(path, f'pysureau_project_{random_uuid}')\n",
    "\n",
    "        # Define paths to subderectories\n",
    "        path_to_params_folder = os.path.join(project_path, '1_parameter_files')\n",
    "        path_to_model_outputs_folder = os.path.join(project_path, '2_model_outputs')\n",
    "        path_to_logfiles_folder = os.path.join(project_path, '3_log_files')\n",
    "        \n",
    "        # Create main and subdirectories with it is corresponding files\n",
    "        os.mkdir(project_path)\n",
    "        \n",
    "        os.mkdir(path_to_params_folder)\n",
    "        \n",
    "        # USE CREATE FUNCTIONS HERE\n",
    "        # create_soil_params()\n",
    "        # create_veg_params()\n",
    "        # create_climate_data()\n",
    "        \n",
    "        os.mkdir(path_to_model_outputs_folder)\n",
    "        os.mkdir(path_to_logfiles_folder)\n",
    "        \n",
    "        print(f'pysureau project created at {project_path}')\n",
    "        \n",
    "    else:\n",
    "        raise FileNotFoundError(f\"Path not found at: {path}\")\n",
    "    \n",
    "    "
   ]
  },
  {
   "cell_type": "markdown",
   "metadata": {},
   "source": [
    "#### __Example: __ "
   ]
  },
  {
   "cell_type": "code",
   "execution_count": 22,
   "metadata": {},
   "outputs": [
    {
     "name": "stdout",
     "output_type": "stream",
     "text": [
      "pysureau project created at /tmp/pysureau_project_2VFeXydevW3rnrw6seh9yR\n"
     ]
    }
   ],
   "source": [
    "pysureau_init(\"/tmp\")"
   ]
  },
  {
   "cell_type": "code",
   "execution_count": null,
   "metadata": {},
   "outputs": [],
   "source": [
    "# | export\n"
   ]
  },
  {
   "cell_type": "markdown",
   "metadata": {},
   "source": []
  }
 ],
 "metadata": {
  "kernelspec": {
   "display_name": "default",
   "language": "python",
   "name": "python3"
  },
  "language_info": {
   "codemirror_mode": {
    "name": "ipython",
    "version": 3
   },
   "file_extension": ".py",
   "mimetype": "text/x-python",
   "name": "python",
   "nbconvert_exporter": "python",
   "pygments_lexer": "ipython3",
   "version": "3.13.5"
  }
 },
 "nbformat": 4,
 "nbformat_minor": 4
}
