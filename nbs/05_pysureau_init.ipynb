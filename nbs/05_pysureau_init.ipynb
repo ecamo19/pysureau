{
 "cells": [
  {
   "cell_type": "raw",
   "metadata": {},
   "source": [
    "---\n",
    "description: 'AUTHORS: Erick Calderon-Morales'\n",
    "output-file: pysureau_init.html\n",
    "title: pysureau init \n",
    "---\n",
    "\n"
   ]
  },
  {
   "cell_type": "code",
   "execution_count": null,
   "metadata": {},
   "outputs": [],
   "source": [
    "# | default_exp pysureau_init"
   ]
  },
  {
   "cell_type": "code",
   "execution_count": null,
   "metadata": {},
   "outputs": [],
   "source": [
    "# | hide\n",
    "from nbdev.showdoc import *\n",
    "from fastcore.test import *"
   ]
  },
  {
   "cell_type": "code",
   "execution_count": null,
   "metadata": {},
   "outputs": [],
   "source": [
    "# | export\n",
    "import os\n",
    "import csv\n",
    "import shortuuid\n",
    "from typing import Dict\n",
    "from typing import Union\n",
    "from pathlib import Path\n",
    "from pandera.typing import DataFrame\n",
    "from pysureau.soil_utils import create_empty_soil_parameter_files\n",
    "from pysureau.pysureau_utils import dict_to_csv"
   ]
  },
  {
   "cell_type": "code",
   "execution_count": null,
   "metadata": {},
   "outputs": [],
   "source": [
    "# | export\n",
    "def pysureau_init(\n",
    "    path: Union[\n",
    "        str, None\n",
    "    ] = None,  # Path where the pysureau folders and files will be stored\n",
    "):\n",
    "    \"\"\"\n",
    "    Function for creating the project's main folder structure alongside with the necessary parameter files\n",
    "    \"\"\"\n",
    "\n",
    "    # Type checking -------------------------------------------------------------\n",
    "    # Only allow str or None\n",
    "    if path is not None and not isinstance(path, str):\n",
    "        raise TypeError(\n",
    "            f'path must be a string or None, not {type(path).__name__}'\n",
    "        )\n",
    "\n",
    "    # Convert string to Path if provided ----------------------------------------\n",
    "    if path is not None:\n",
    "        path = Path(path)\n",
    "\n",
    "    # Create folder structure ---------------------------------------------------\n",
    "\n",
    "    # Get random number to name main folders\n",
    "    random_uuid = shortuuid.uuid()\n",
    "\n",
    "    if path is None:\n",
    "        # Define path with random uuid at the home directory\n",
    "        project_path = os.path.join(\n",
    "            Path.home(), f'pysureau_project_{random_uuid}'\n",
    "        )\n",
    "\n",
    "        # Define paths to subderectories\n",
    "        path_to_params_folder = os.path.join(project_path, '1_parameter_files')\n",
    "        path_to_model_outputs_folder = os.path.join(\n",
    "            project_path, '2_model_outputs'\n",
    "        )\n",
    "        path_to_logfiles_folder = os.path.join(project_path, '3_log_files')\n",
    "\n",
    "        # Create main and subdirectories with it is corresponding files\n",
    "        os.mkdir(project_path)\n",
    "        os.mkdir(path_to_params_folder)\n",
    "\n",
    "        # Create empty parameter files for soil\n",
    "        create_empty_soil_parameter_files(path=path_to_params_folder)\n",
    "\n",
    "        # Create empty parameter files for climate\n",
    "\n",
    "        # Create empty parameter files for veg\n",
    "\n",
    "        os.mkdir(path_to_model_outputs_folder)\n",
    "        os.mkdir(path_to_logfiles_folder)\n",
    "\n",
    "        print(f'pysureau project created at {project_path}')\n",
    "\n",
    "    elif os.path.exists(path):\n",
    "        # Define path with random uuid at the user's chosen path\n",
    "        project_path = os.path.join(path, f'pysureau_project_{random_uuid}')\n",
    "\n",
    "        # Define paths to subderectories\n",
    "        path_to_params_folder = os.path.join(project_path, '1_parameter_files')\n",
    "        path_to_model_outputs_folder = os.path.join(\n",
    "            project_path, '2_model_outputs'\n",
    "        )\n",
    "        path_to_logfiles_folder = os.path.join(project_path, '3_log_files')\n",
    "\n",
    "        # Create main and subdirectories with it is corresponding files\n",
    "        os.mkdir(project_path)\n",
    "\n",
    "        os.mkdir(path_to_params_folder)\n",
    "\n",
    "        # Create empty parameter files for soil\n",
    "        create_empty_soil_parameter_files(path=path_to_params_folder)\n",
    "\n",
    "        # Create empty parameter files for climate\n",
    "\n",
    "        # Create empty parameter files for veg\n",
    "\n",
    "        os.mkdir(path_to_model_outputs_folder)\n",
    "        os.mkdir(path_to_logfiles_folder)\n",
    "\n",
    "        print(f'pysureau project created at {project_path}')\n",
    "\n",
    "    else:\n",
    "        raise FileNotFoundError(f'Path not found at: {path}')"
   ]
  },
  {
   "cell_type": "code",
   "execution_count": null,
   "metadata": {},
   "outputs": [
    {
     "ename": "NameError",
     "evalue": "name 'dict_to_csv' is not defined",
     "output_type": "error",
     "traceback": [
      "\u001b[31m---------------------------------------------------------------------------\u001b[39m",
      "\u001b[31mNameError\u001b[39m                                 Traceback (most recent call last)",
      "\u001b[36mCell\u001b[39m\u001b[36m \u001b[39m\u001b[32mIn[10]\u001b[39m\u001b[32m, line 1\u001b[39m\n\u001b[32m----> \u001b[39m\u001b[32m1\u001b[39m \u001b[43mpysureau_init\u001b[49m\u001b[43m(\u001b[49m\u001b[43mpath\u001b[49m\u001b[43m \u001b[49m\u001b[43m=\u001b[49m\u001b[43m \u001b[49m\u001b[33;43m'\u001b[39;49m\u001b[33;43m/tmp\u001b[39;49m\u001b[33;43m'\u001b[39;49m\u001b[43m)\u001b[49m\n",
      "\u001b[36mCell\u001b[39m\u001b[36m \u001b[39m\u001b[32mIn[7]\u001b[39m\u001b[32m, line 73\u001b[39m, in \u001b[36mpysureau_init\u001b[39m\u001b[34m(path)\u001b[39m\n\u001b[32m     70\u001b[39m os.mkdir(path_to_params_folder)\n\u001b[32m     72\u001b[39m \u001b[38;5;66;03m# Create empty parameter files for soil \u001b[39;00m\n\u001b[32m---> \u001b[39m\u001b[32m73\u001b[39m \u001b[43mcreate_empty_soil_parameter_files\u001b[49m\u001b[43m(\u001b[49m\u001b[43mpath\u001b[49m\u001b[43m \u001b[49m\u001b[43m=\u001b[49m\u001b[43m \u001b[49m\u001b[43mpath_to_params_folder\u001b[49m\u001b[43m)\u001b[49m\n\u001b[32m     75\u001b[39m \u001b[38;5;66;03m# Create empty parameter files for climate \u001b[39;00m\n\u001b[32m     76\u001b[39m \n\u001b[32m     77\u001b[39m \u001b[38;5;66;03m# Create empty parameter files for veg\u001b[39;00m\n\u001b[32m     79\u001b[39m os.mkdir(path_to_model_outputs_folder)\n",
      "\u001b[36mFile \u001b[39m\u001b[32m~/Documents/projects/modelling/sureau/pysureau/pysureau/soil_utils.py:212\u001b[39m, in \u001b[36mcreate_empty_soil_parameter_files\u001b[39m\u001b[34m(path)\u001b[39m\n\u001b[32m    188\u001b[39m     soil_params_campbell = \u001b[38;5;28mdict\u001b[39m(\n\u001b[32m    189\u001b[39m         \u001b[38;5;28mzip\u001b[39m(\n\u001b[32m    190\u001b[39m             [\n\u001b[32m   (...)\u001b[39m\u001b[32m    208\u001b[39m         )\n\u001b[32m    209\u001b[39m     )\n\u001b[32m    211\u001b[39m     \u001b[38;5;66;03m# Write to CSV files\u001b[39;00m\n\u001b[32m--> \u001b[39m\u001b[32m212\u001b[39m     \u001b[43mdict_to_csv\u001b[49m(\n\u001b[32m    213\u001b[39m         dictionary=soil_params_vg,\n\u001b[32m    214\u001b[39m         path=path,\n\u001b[32m    215\u001b[39m         filename=\u001b[33m'\u001b[39m\u001b[33msoil_parameters_vg.csv\u001b[39m\u001b[33m'\u001b[39m,\n\u001b[32m    216\u001b[39m     )\n\u001b[32m    218\u001b[39m     dict_to_csv(\n\u001b[32m    219\u001b[39m         dictionary=soil_params_campbell,\n\u001b[32m    220\u001b[39m         path=path,\n\u001b[32m    221\u001b[39m         filename=\u001b[33m'\u001b[39m\u001b[33msoil_parameters_campbell.csv\u001b[39m\u001b[33m'\u001b[39m,\n\u001b[32m    222\u001b[39m     )\n\u001b[32m    224\u001b[39m \u001b[38;5;28;01melse\u001b[39;00m:\n",
      "\u001b[31mNameError\u001b[39m: name 'dict_to_csv' is not defined"
     ]
    }
   ],
   "source": [
    "# pysureau_init(path = '/tmp')"
   ]
  }
 ],
 "metadata": {
  "kernelspec": {
   "display_name": "python3",
   "language": "python",
   "name": "python3"
  }
 },
 "nbformat": 4,
 "nbformat_minor": 4
}
