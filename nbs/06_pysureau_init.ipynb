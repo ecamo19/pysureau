{
 "cells": [
  {
   "cell_type": "raw",
   "metadata": {},
   "source": [
    "---\n",
    "description: 'AUTHORS: Erick Calderon-Morales'\n",
    "output-file: pysureau_init.html\n",
    "title: pysureau init \n",
    "---\n",
    "\n"
   ]
  },
  {
   "cell_type": "code",
   "execution_count": null,
   "metadata": {},
   "outputs": [],
   "source": [
    "# | default_exp pysureau_init"
   ]
  },
  {
   "cell_type": "code",
   "execution_count": null,
   "metadata": {},
   "outputs": [],
   "source": [
    "# | hide\n",
    "from nbdev.showdoc import *\n",
    "from fastcore.test import *"
   ]
  },
  {
   "cell_type": "code",
   "execution_count": null,
   "metadata": {},
   "outputs": [],
   "source": [
    "# | export\n",
    "import os\n",
    "import csv\n",
    "import shortuuid\n",
    "from typing import Dict, Union\n",
    "from pathlib import PosixPath\n",
    "from pathlib import Path\n",
    "from pandera.typing import DataFrame\n",
    "from pysureau.soil_utils import create_empty_soil_parameter_files\n",
    "from pysureau.pysureau_utils import dict_to_csv"
   ]
  },
  {
   "cell_type": "code",
   "execution_count": null,
   "metadata": {},
   "outputs": [],
   "source": [
    "# | export\n",
    "def pysureau_init(\n",
    "    path: Union[\n",
    "        str, None\n",
    "    ] = None,  # Path where the pysureau folders and files will be stored\n",
    "):\n",
    "    \"\"\"\n",
    "    Function for creating the project's main folder structure alongside with the necessary parameter files\n",
    "    \"\"\"\n",
    "\n",
    "    # Type checking -------------------------------------------------------------\n",
    "    # Only allow str or None\n",
    "    if path is not None and not isinstance(path, str):\n",
    "        raise TypeError(\n",
    "            f'path must be a string or None, not {type(path).__name__}'\n",
    "        )\n",
    "\n",
    "    # Convert string to Path if provided ----------------------------------------\n",
    "    if path is not None:\n",
    "        path = Path(path)\n",
    "\n",
    "    # Create folder structure ---------------------------------------------------\n",
    "\n",
    "    # Get random number to name main folder\n",
    "    random_uuid = shortuuid.uuid()\n",
    "\n",
    "    if path is None:\n",
    "        # Define path with random uuid at the home directory\n",
    "        project_path = os.path.join(\n",
    "            Path.home(), f'pysureau_project_{random_uuid}'\n",
    "        )\n",
    "\n",
    "        # Define paths to subderectories\n",
    "        path_to_params_folder = os.path.join(project_path, '1_parameter_files')\n",
    "        path_to_model_outputs_folder = os.path.join(\n",
    "            project_path, '2_model_outputs'\n",
    "        )\n",
    "        path_to_logfiles_folder = os.path.join(project_path, '3_log_files')\n",
    "\n",
    "        # Create main and subdirectories with it is corresponding files\n",
    "        os.mkdir(project_path)\n",
    "        os.mkdir(path_to_params_folder)\n",
    "        os.mkdir(path_to_model_outputs_folder)\n",
    "        os.mkdir(path_to_logfiles_folder)\n",
    "\n",
    "        # Create empty parameter files for soil\n",
    "        create_empty_soil_parameter_files(path=path_to_params_folder)\n",
    "\n",
    "        # Create empty parameter files for climate\n",
    "\n",
    "        # EDIT HERE\n",
    "\n",
    "        # Create empty parameter files for veg\n",
    "\n",
    "        # EDIT HERE\n",
    "\n",
    "        print(f'pysureau project created at {project_path}')\n",
    "\n",
    "    elif os.path.exists(path):\n",
    "        # Define path with random uuid at the user's chosen path\n",
    "        project_path = os.path.join(path, f'pysureau_project_{random_uuid}')\n",
    "\n",
    "        # Define paths to subderectories\n",
    "        path_to_params_folder = os.path.join(project_path, '1_parameter_files')\n",
    "        path_to_model_outputs_folder = os.path.join(\n",
    "            project_path, '2_model_outputs'\n",
    "        )\n",
    "        path_to_logfiles_folder = os.path.join(project_path, '3_log_files')\n",
    "\n",
    "        # Create main and subdirectories with it is corresponding files\n",
    "        os.mkdir(project_path)\n",
    "        os.mkdir(path_to_params_folder)\n",
    "        os.mkdir(path_to_model_outputs_folder)\n",
    "        os.mkdir(path_to_logfiles_folder)\n",
    "\n",
    "        # Create empty parameter files for soil\n",
    "        create_empty_soil_parameter_files(path=path_to_params_folder)\n",
    "\n",
    "        # Create empty parameter files for climate\n",
    "\n",
    "        # EDIT HERE\n",
    "\n",
    "        # Create empty parameter files for veg\n",
    "\n",
    "        # EDIT HERES\n",
    "\n",
    "        print(f'pysureau project created at {project_path}')\n",
    "\n",
    "    else:\n",
    "        raise FileNotFoundError(f'Path not found at: {path}')"
   ]
  },
  {
   "cell_type": "code",
   "execution_count": null,
   "metadata": {},
   "outputs": [
    {
     "name": "stdout",
     "output_type": "stream",
     "text": [
      "CSV file saved as /tmp/pysureau_project_ciZ64j6epyCqPxyavomxgW/1_parameter_files/soil_parameters_vg.csv\n",
      "CSV file saved as /tmp/pysureau_project_ciZ64j6epyCqPxyavomxgW/1_parameter_files/soil_parameters_campbell.csv\n",
      "pysureau project created at /tmp/pysureau_project_ciZ64j6epyCqPxyavomxgW\n"
     ]
    }
   ],
   "source": [
    "pysureau_init(path='/tmp')"
   ]
  }
 ],
 "metadata": {
  "kernelspec": {
   "display_name": "python3",
   "language": "python",
   "name": "python3"
  }
 },
 "nbformat": 4,
 "nbformat_minor": 4
}
