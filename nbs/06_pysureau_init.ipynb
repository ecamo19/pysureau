{
 "cells": [
  {
   "cell_type": "raw",
   "metadata": {},
   "source": [
    "---\n",
    "description: 'AUTHORS: Erick Calderon-Morales'\n",
    "output-file: pysureau_init.html\n",
    "title: pysureau init \n",
    "---\n",
    "\n"
   ]
  },
  {
   "cell_type": "code",
   "execution_count": null,
   "metadata": {},
   "outputs": [],
   "source": [
    "# | default_exp pysureau_init"
   ]
  },
  {
   "cell_type": "code",
   "execution_count": null,
   "metadata": {},
   "outputs": [],
   "source": [
    "# | hide\n",
    "from nbdev.showdoc import *\n",
    "from fastcore.test import *"
   ]
  },
  {
   "cell_type": "code",
   "execution_count": null,
   "metadata": {},
   "outputs": [
    {
     "ename": "ModuleNotFoundError",
     "evalue": "No module named 'pysureau.modeling_options_utils'",
     "output_type": "error",
     "traceback": [
      "\u001b[31m---------------------------------------------------------------------------\u001b[39m",
      "\u001b[31mModuleNotFoundError\u001b[39m                       Traceback (most recent call last)",
      "\u001b[36mCell\u001b[39m\u001b[36m \u001b[39m\u001b[32mIn[1]\u001b[39m\u001b[32m, line 12\u001b[39m\n\u001b[32m     10\u001b[39m \u001b[38;5;28;01mfrom\u001b[39;00m\u001b[38;5;250m \u001b[39m\u001b[34;01mpysureau\u001b[39;00m\u001b[34;01m.\u001b[39;00m\u001b[34;01mplant_utils\u001b[39;00m\u001b[38;5;250m \u001b[39m\u001b[38;5;28;01mimport\u001b[39;00m create_empty_vegetation_parameter_file\n\u001b[32m     11\u001b[39m \u001b[38;5;28;01mfrom\u001b[39;00m\u001b[38;5;250m \u001b[39m\u001b[34;01mpysureau\u001b[39;00m\u001b[34;01m.\u001b[39;00m\u001b[34;01mpysureau_utils\u001b[39;00m\u001b[38;5;250m \u001b[39m\u001b[38;5;28;01mimport\u001b[39;00m _create_parameter_definitions_csv_file\n\u001b[32m---> \u001b[39m\u001b[32m12\u001b[39m \u001b[38;5;28;01mfrom\u001b[39;00m\u001b[38;5;250m \u001b[39m\u001b[34;01mpysureau\u001b[39;00m\u001b[34;01m.\u001b[39;00m\u001b[34;01mmodeling_options_utils\u001b[39;00m\u001b[38;5;250m \u001b[39m\u001b[38;5;28;01mimport\u001b[39;00m create_empty_modeling_options_file\n",
      "\u001b[31mModuleNotFoundError\u001b[39m: No module named 'pysureau.modeling_options_utils'"
     ]
    }
   ],
   "source": [
    "# | export\n",
    "import os\n",
    "import csv\n",
    "import shortuuid\n",
    "from typing import Dict, Union\n",
    "from pathlib import PosixPath\n",
    "from pathlib import Path\n",
    "from pandera.typing import DataFrame\n",
    "from pysureau.soil_utils import create_empty_soil_parameter_files\n",
    "from pysureau.plant_utils import create_empty_vegetation_parameter_file\n",
    "from pysureau.pysureau_utils import _create_parameter_definitions_csv_file\n",
    "#from pysureau.modeling_options_utils import create_empty_modeling_options_file"
   ]
  },
  {
   "cell_type": "code",
   "execution_count": null,
   "metadata": {},
   "outputs": [],
   "source": [
    "# | export\n",
    "def pysureau_init(\n",
    "    path: Union[\n",
    "        str, None\n",
    "    ] = None,  # Path where the pysureau folders and files will be stored\n",
    "):\n",
    "    \"\"\"\n",
    "    Function for creating the project's main folder structure alongside with the necessary parameter files\n",
    "    \"\"\"\n",
    "\n",
    "    # Type checking -------------------------------------------------------------\n",
    "    # Only allow str or None\n",
    "    if path is not None and not isinstance(path, str):\n",
    "        raise TypeError(\n",
    "            f'path must be a string or None, not {type(path).__name__}'\n",
    "        )\n",
    "\n",
    "    # Convert string to Path if provided ----------------------------------------\n",
    "    if path is not None:\n",
    "        path = Path(path)\n",
    "\n",
    "    # Create folder structure ---------------------------------------------------\n",
    "\n",
    "    # Get the last 8 random characters to name main folder\n",
    "    random_uuid = shortuuid.uuid()[:8]\n",
    "\n",
    "    if path is None:\n",
    "        # Define path with random uuid at the home directory\n",
    "        project_path = os.path.join(\n",
    "            Path.home(), f'pysureau_project_{random_uuid}'\n",
    "        )\n",
    "\n",
    "        # Define paths to subderectories\n",
    "        path_to_params_folder = os.path.join(project_path, '1_parameter_files')\n",
    "        path_to_model_outputs_folder = os.path.join(\n",
    "            project_path, '2_model_outputs'\n",
    "        )\n",
    "        path_to_logfiles_folder = os.path.join(project_path, '3_log_files')\n",
    "\n",
    "        # Create main and subdirectories with it is corresponding files\n",
    "        os.mkdir(project_path)\n",
    "        os.mkdir(path_to_params_folder)\n",
    "        os.mkdir(path_to_logfiles_folder)\n",
    "        os.mkdir(path_to_model_outputs_folder)\n",
    "\n",
    "        # Create parameter definitions file\n",
    "        _create_parameter_definitions_csv_file(path_to_params_folder)\n",
    "\n",
    "        # Create empty parameter files for soil\n",
    "        create_empty_soil_parameter_files(path=path_to_params_folder)\n",
    "\n",
    "        # Create empty modelling options file\n",
    "\n",
    "        # EDIT ME\n",
    "\n",
    "        # Create empty parameter files for veg\n",
    "        create_empty_vegetation_parameter_file(path=path_to_params_folder)\n",
    "\n",
    "        # Create empty parameter files for climate\n",
    "\n",
    "        # EDIT HERE\n",
    "\n",
    "        # EDIT HERE\n",
    "\n",
    "        print(f'pysureau project created at {project_path}')\n",
    "\n",
    "    elif os.path.exists(path):\n",
    "        # Define path with random uuid at the user's chosen path\n",
    "        project_path = os.path.join(path, f'pysureau_project_{random_uuid}')\n",
    "\n",
    "        # Define paths to subderectories\n",
    "        path_to_params_folder = os.path.join(project_path, '1_parameter_files')\n",
    "        path_to_model_outputs_folder = os.path.join(\n",
    "            project_path, '2_model_outputs'\n",
    "        )\n",
    "        path_to_logfiles_folder = os.path.join(project_path, '3_log_files')\n",
    "\n",
    "        # Create main and subdirectories with it is corresponding files\n",
    "        os.mkdir(project_path)\n",
    "        os.mkdir(path_to_params_folder)\n",
    "        os.mkdir(path_to_logfiles_folder)\n",
    "        os.mkdir(path_to_model_outputs_folder)\n",
    "\n",
    "        # Create parameter definitions file\n",
    "        _create_parameter_definitions_csv_file(\n",
    "            path=path_to_params_folder, filename='parameter_definitions.csv'\n",
    "        )\n",
    "\n",
    "        # Create empty parameter files for soil\n",
    "        create_empty_soil_parameter_files(path=path_to_params_folder)\n",
    "\n",
    "        # Create empty modelling options file\n",
    "\n",
    "        # EDIT ME\n",
    "\n",
    "        # Create empty parameter files for veg\n",
    "        create_empty_vegetation_parameter_file(path=path_to_params_folder)\n",
    "\n",
    "        # Create empty parameter files for climate\n",
    "        # EDIT HERES\n",
    "\n",
    "        print(f'pysureau project created at {project_path}')\n",
    "\n",
    "    else:\n",
    "        raise FileNotFoundError(f'Path not found at: {path}')"
   ]
  },
  {
   "cell_type": "code",
   "execution_count": null,
   "metadata": {},
   "outputs": [
    {
     "name": "stdout",
     "output_type": "stream",
     "text": [
      "CSV parameter file saved at /tmp/pysureau_project_X3BDY8ymUVqi4mojYMNDrC/1_parameter_files/soil_parameters_vg.csv\n",
      "CSV parameter file saved at /tmp/pysureau_project_X3BDY8ymUVqi4mojYMNDrC/1_parameter_files/soil_parameters_campbell.csv\n",
      "CSV parameter file saved at /tmp/pysureau_project_X3BDY8ymUVqi4mojYMNDrC/1_parameter_files/vegetation_parameters.csv\n",
      "pysureau project created at /tmp/pysureau_project_X3BDY8ymUVqi4mojYMNDrC\n"
     ]
    }
   ],
   "source": [
    "pysureau_init(path='/tmp')"
   ]
  },
  {
   "cell_type": "code",
   "execution_count": null,
   "metadata": {},
   "outputs": [
    {
     "data": {
      "text/plain": [
       "'2zksDk5x'"
      ]
     },
     "execution_count": null,
     "metadata": {},
     "output_type": "execute_result"
    }
   ],
   "source": [
    "shortuuid.uuid()"
   ]
  }
 ],
 "metadata": {
  "kernelspec": {
   "display_name": "python3",
   "language": "python",
   "name": "python3"
  }
 },
 "nbformat": 4,
 "nbformat_minor": 4
}
